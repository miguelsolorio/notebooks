{
 "cells": [
  {
   "cell_type": "markdown",
   "metadata": {},
   "source": [
    "## 2020 Strava Data"
   ]
  },
  {
   "cell_type": "markdown",
   "metadata": {},
   "source": [
    "## Install dependencies"
   ]
  },
  {
   "cell_type": "code",
   "execution_count": null,
   "metadata": {},
   "outputs": [],
   "source": [
    "# !pip install pandas\n",
    "# !pip install matplotlib"
   ]
  },
  {
   "cell_type": "code",
   "execution_count": 2,
   "metadata": {},
   "outputs": [],
   "source": [
    "# import time\n",
    "# time.sleep(10)"
   ]
  },
  {
   "cell_type": "code",
   "execution_count": null,
   "metadata": {},
   "outputs": [],
   "source": [
    "import pandas as pd\n",
    "from pandas import Series, DataFrame\n",
    "import numpy as np\n",
    "import datetime\n",
    "import time\n",
    "import math\n",
    "import matplotlib.dates as mdates\n",
    "from matplotlib import (pyplot as plt, figure)\n",
    "from matplotlib.dates import DateFormatter"
   ]
  },
  {
   "cell_type": "code",
   "execution_count": null,
   "metadata": {},
   "outputs": [],
   "source": [
    "data = pd.read_csv('strava_activities.csv')\n",
    "data.head()"
   ]
  },
  {
   "cell_type": "markdown",
   "metadata": {},
   "source": [
    "## Clean Up Data"
   ]
  },
  {
   "cell_type": "code",
   "execution_count": null,
   "metadata": {},
   "outputs": [],
   "source": [
    "# select columns\n",
    "selected_columns = ['Activity Date', 'Elapsed Time', 'Distance', 'Relative Effort', 'Distance']\n",
    "data_filtered = data[selected_columns].copy()\n",
    "data_filtered = data_filtered.loc[:,~data_filtered.columns.duplicated()]\n",
    "\n",
    "# remove empty rides\n",
    "data_filtered.query('Distance > 0',  inplace=True)\n",
    "\n",
    "# convert time to minutes\n",
    "data_filtered['Elapsed Time'] = data_filtered['Elapsed Time'].div(60).astype(int)\n",
    "\n",
    "# convert distance to miles\n",
    "data_filtered['Distance'] = data_filtered['Distance'].div(1.609344).round(1)\n",
    "\n",
    "# remove decimal on relative\n",
    "# data_filtered['Relative Effort'] = data_filtered['Relative Effort'].astype(str).str[:-2]\n",
    "# data_filtered['Relative Effort'] = data_filtered['Relative Effort'].astype(float)\n",
    "# data_filtered['Relative Effort'] = pd.to_numeric(data_filtered['Relative Effort'] ,errors='coerce')\n",
    "# data_filtered['Relative Effort']\n",
    "\n",
    "data_filtered.tail()"
   ]
  },
  {
   "cell_type": "markdown",
   "metadata": {},
   "source": [
    "## Filter Data to 2020"
   ]
  },
  {
   "cell_type": "code",
   "execution_count": null,
   "metadata": {},
   "outputs": [],
   "source": [
    "# convert date column to time object\n",
    "data_filtered['Activity Date'] = pd.to_datetime(data_filtered['Activity Date'])\n",
    "\n",
    "# filter out non 2020 dates\n",
    "df = data_filtered[(data_filtered['Activity Date'].dt.year == 2020)]\n",
    "\n",
    "df.tail(10)"
   ]
  },
  {
   "cell_type": "markdown",
   "metadata": {},
   "source": [
    "## Plot data"
   ]
  },
  {
   "cell_type": "code",
   "execution_count": null,
   "metadata": {},
   "outputs": [],
   "source": [
    "# setup summary\n",
    "summary = df.copy()\n",
    "summary['Activity Date'] = pd.to_datetime(summary['Activity Date'])\n",
    "summary.index = summary['Activity Date'] \n",
    "summary = summary.resample('M').sum()\n",
    "\n",
    "# daily\n",
    "daily_x = df['Activity Date']\n",
    "daily_y1 = df['Distance']\n",
    "daily_y2 = df['Relative Effort']\n",
    "daily_y3 = df['Elapsed Time']\n",
    "\n",
    "# summary\n",
    "summary_x = ['Jan', 'Feb', 'Mar', 'Apr', 'May', 'Jun', 'July', 'Aug', 'Sept', 'Oct', 'Nov', 'Dec']\n",
    "summary_y1 = summary['Distance']\n",
    "summary_y2 = summary['Relative Effort']\n",
    "summary_y3 = summary['Elapsed Time']\n",
    "\n",
    "# figure\n",
    "fig,(daily_ax1, daily_ax2, daily_ax3) = plt.subplots(nrows=1, ncols=3, figsize=(8.5,3))\n",
    "fig2,(summary_ax1, summary_ax2, summary_ax3) = plt.subplots(nrows=1, ncols=3, figsize=(8.5,3))\n",
    "fig.suptitle('2020 Strava Workouts')\n",
    "fig.tight_layout(rect=[0, 0, 1, 0.84])\n",
    "fig2.tight_layout(rect=[0, 0, 1, 0.84])\n",
    "\n",
    "# daily scatter\n",
    "daily_ax1.scatter(daily_x, daily_y1, s=8, c='#99999950', label='Distance')\n",
    "daily_ax2.scatter(daily_x, daily_y2, s=8, c='#007acc50', label='Relative Effort')\n",
    "daily_ax3.scatter(daily_x, daily_y3, s=8, c='#f9826c50', label='Elapsed Time')\n",
    "daily_ax1.set_title('Distance')\n",
    "daily_ax2.set_title('Effort')\n",
    "daily_ax3.set_title('Duration')\n",
    "\n",
    "# summary bars\n",
    "summary_ax1.bar(summary_x, summary_y1, width=0.4, color='#999999')\n",
    "summary_ax2.bar(summary_x, summary_y2, width=0.4, color='#007acc')\n",
    "summary_ax3.bar(summary_x, summary_y3, width=0.4, color='#f9826c')\n",
    "summary_ax1.set_title('Monthly Distance')\n",
    "summary_ax2.set_title('Monthly Effort')\n",
    "summary_ax3.set_title('Monthly Duration')\n",
    "\n",
    "date_form = DateFormatter(\"%m-%d\")\n",
    "daily_ax1.xaxis.set_major_formatter(date_form)\n",
    "daily_ax1.xaxis.set_major_locator(mdates.WeekdayLocator(interval=6))\n",
    "daily_ax2.xaxis.set_major_formatter(date_form)\n",
    "daily_ax2.xaxis.set_major_locator(mdates.WeekdayLocator(interval=6))\n",
    "daily_ax3.xaxis.set_major_formatter(date_form)\n",
    "daily_ax3.xaxis.set_major_locator(mdates.WeekdayLocator(interval=6))"
   ]
  },
  {
   "cell_type": "code",
   "execution_count": null,
   "metadata": {},
   "outputs": [],
   "source": [
    "highest = df.sort_values(by='Elapsed Time', ascending=False)\n",
    "highest"
   ]
  }
 ],
 "metadata": {
  "kernelspec": {
   "display_name": "Python 3.7.3 64-bit",
   "language": "python",
   "name": "python37364bit1b59b820878d42b59aebf362a9f522c1"
  },
  "language_info": {
   "codemirror_mode": {
    "name": "ipython",
    "version": 3
   },
   "file_extension": ".py",
   "mimetype": "text/x-python",
   "name": "python",
   "nbconvert_exporter": "python",
   "pygments_lexer": "ipython3",
   "version": "3.8.2"
  },
  "metadata": {
   "interpreter": {
    "hash": "0f3fc1f477b7b6e8a98505e87c3377c352684999b9cf604b9f6bec26ac37c02d"
   }
  }
 },
 "nbformat": 4,
 "nbformat_minor": 4
}