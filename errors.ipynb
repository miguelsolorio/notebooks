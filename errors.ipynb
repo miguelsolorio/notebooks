{
 "cells": [
  {
   "cell_type": "code",
   "execution_count": 2,
   "metadata": {},
   "outputs": [
    {
     "name": "stdout",
     "output_type": "stream",
     "text": [
      "\u001b[33mYellow\u001b[0m\n",
      "\u001b[93mBright Yellow\u001b[0m\n"
     ]
    }
   ],
   "source": [
    "print(\"\\u001b[33mYellow\\u001b[0m\")\n",
    "print(\"\\u001b[93mBright Yellow\\u001b[0m\")"
   ]
  }
 ],
 "metadata": {
  "interpreter": {
   "hash": "9ab06bbb6cdc45c1c72e842d27cb0d51721b9b6329506c2ac545da1ac71cc21a"
  },
  "kernelspec": {
   "display_name": "Python 3.9.7 ('main')",
   "language": "python",
   "name": "python3"
  },
  "language_info": {
   "codemirror_mode": {
    "name": "ipython",
    "version": 3
   },
   "file_extension": ".py",
   "mimetype": "text/x-python",
   "name": "python",
   "nbconvert_exporter": "python",
   "pygments_lexer": "ipython3",
   "version": "3.9.7"
  },
  "orig_nbformat": 4
 },
 "nbformat": 4,
 "nbformat_minor": 2
}
