{
 "cells": [
  {
   "cell_type": "markdown",
   "metadata": {},
   "source": [
    "# Interactive data visualizations\n",
    "\n",
    "Jupyter Notebook has support for many kinds of interactive outputs, including\n",
    "the ipywidgets ecosystem as well as many interactive visualization libraries.\n",
    "These are supported in Jupyter Book, with the right configuration.\n",
    "This page has a few common examples.\n",
    "\n",
    "First off, we'll download a little bit of data\n",
    "and show its structure:"
   ]
  },
  {
   "cell_type": "code",
   "execution_count": 1,
   "metadata": {},
   "outputs": [
    {
     "data": {
      "text/html": [
       "<div>\n",
       "<style scoped>\n",
       "    .dataframe tbody tr th:only-of-type {\n",
       "        vertical-align: middle;\n",
       "    }\n",
       "\n",
       "    .dataframe tbody tr th {\n",
       "        vertical-align: top;\n",
       "    }\n",
       "\n",
       "    .dataframe thead th {\n",
       "        text-align: right;\n",
       "    }\n",
       "</style>\n",
       "<table border=\"1\" class=\"dataframe\">\n",
       "  <thead>\n",
       "    <tr style=\"text-align: right;\">\n",
       "      <th></th>\n",
       "      <th>sepal_length</th>\n",
       "      <th>sepal_width</th>\n",
       "      <th>petal_length</th>\n",
       "      <th>petal_width</th>\n",
       "      <th>species</th>\n",
       "      <th>species_id</th>\n",
       "    </tr>\n",
       "  </thead>\n",
       "  <tbody>\n",
       "    <tr>\n",
       "      <th>0</th>\n",
       "      <td>5.1</td>\n",
       "      <td>3.5</td>\n",
       "      <td>1.4</td>\n",
       "      <td>0.2</td>\n",
       "      <td>setosa</td>\n",
       "      <td>1</td>\n",
       "    </tr>\n",
       "    <tr>\n",
       "      <th>1</th>\n",
       "      <td>4.9</td>\n",
       "      <td>3.0</td>\n",
       "      <td>1.4</td>\n",
       "      <td>0.2</td>\n",
       "      <td>setosa</td>\n",
       "      <td>1</td>\n",
       "    </tr>\n",
       "    <tr>\n",
       "      <th>2</th>\n",
       "      <td>4.7</td>\n",
       "      <td>3.2</td>\n",
       "      <td>1.3</td>\n",
       "      <td>0.2</td>\n",
       "      <td>setosa</td>\n",
       "      <td>1</td>\n",
       "    </tr>\n",
       "    <tr>\n",
       "      <th>3</th>\n",
       "      <td>4.6</td>\n",
       "      <td>3.1</td>\n",
       "      <td>1.5</td>\n",
       "      <td>0.2</td>\n",
       "      <td>setosa</td>\n",
       "      <td>1</td>\n",
       "    </tr>\n",
       "    <tr>\n",
       "      <th>4</th>\n",
       "      <td>5.0</td>\n",
       "      <td>3.6</td>\n",
       "      <td>1.4</td>\n",
       "      <td>0.2</td>\n",
       "      <td>setosa</td>\n",
       "      <td>1</td>\n",
       "    </tr>\n",
       "  </tbody>\n",
       "</table>\n",
       "</div>"
      ],
      "text/plain": [
       "   sepal_length  sepal_width  petal_length  petal_width species  species_id\n",
       "0           5.1          3.5           1.4          0.2  setosa           1\n",
       "1           4.9          3.0           1.4          0.2  setosa           1\n",
       "2           4.7          3.2           1.3          0.2  setosa           1\n",
       "3           4.6          3.1           1.5          0.2  setosa           1\n",
       "4           5.0          3.6           1.4          0.2  setosa           1"
      ]
     },
     "execution_count": 1,
     "metadata": {},
     "output_type": "execute_result"
    }
   ],
   "source": [
    "import plotly.express as px\n",
    "data = px.data.iris()\n",
    "data.head()"
   ]
  },
  {
   "cell_type": "markdown",
   "metadata": {},
   "source": [
    "## Altair\n",
    "\n",
    "Interactive outputs will work under the assumption that the outputs they produce have\n",
    "self-contained HTML that works without requiring any external dependencies to load.\n",
    "See the [`Altair` installation instructions](https://altair-viz.github.io/getting_started/installation.html#installation)\n",
    "to get set up with Altair. Below is some example output."
   ]
  },
  {
   "cell_type": "code",
   "execution_count": 2,
   "metadata": {},
   "outputs": [
    {
     "data": {
      "text/html": [
       "\n",
       "<div id=\"altair-viz-394a5a4b8aad4f918274e92b664a8136\"></div>\n",
       "<script type=\"text/javascript\">\n",
       "  (function(spec, embedOpt){\n",
       "    let outputDiv = document.currentScript.previousElementSibling;\n",
       "    if (outputDiv.id !== \"altair-viz-394a5a4b8aad4f918274e92b664a8136\") {\n",
       "      outputDiv = document.getElementById(\"altair-viz-394a5a4b8aad4f918274e92b664a8136\");\n",
       "    }\n",
       "    const paths = {\n",
       "      \"vega\": \"https://cdn.jsdelivr.net/npm//vega@5?noext\",\n",
       "      \"vega-lib\": \"https://cdn.jsdelivr.net/npm//vega-lib?noext\",\n",
       "      \"vega-lite\": \"https://cdn.jsdelivr.net/npm//vega-lite@4.8.1?noext\",\n",
       "      \"vega-embed\": \"https://cdn.jsdelivr.net/npm//vega-embed@6?noext\",\n",
       "    };\n",
       "\n",
       "    function loadScript(lib) {\n",
       "      return new Promise(function(resolve, reject) {\n",
       "        var s = document.createElement('script');\n",
       "        s.src = paths[lib];\n",
       "        s.async = true;\n",
       "        s.onload = () => resolve(paths[lib]);\n",
       "        s.onerror = () => reject(`Error loading script: ${paths[lib]}`);\n",
       "        document.getElementsByTagName(\"head\")[0].appendChild(s);\n",
       "      });\n",
       "    }\n",
       "\n",
       "    function showError(err) {\n",
       "      outputDiv.innerHTML = `<div class=\"error\" style=\"color:red;\">${err}</div>`;\n",
       "      throw err;\n",
       "    }\n",
       "\n",
       "    function displayChart(vegaEmbed) {\n",
       "      vegaEmbed(outputDiv, spec, embedOpt)\n",
       "        .catch(err => showError(`Javascript Error: ${err.message}<br>This usually means there's a typo in your chart specification. See the javascript console for the full traceback.`));\n",
       "    }\n",
       "\n",
       "    if(typeof define === \"function\" && define.amd) {\n",
       "      requirejs.config({paths});\n",
       "      require([\"vega-embed\"], displayChart, err => showError(`Error loading script: ${err.message}`));\n",
       "    } else if (typeof vegaEmbed === \"function\") {\n",
       "      displayChart(vegaEmbed);\n",
       "    } else {\n",
       "      loadScript(\"vega\")\n",
       "        .then(() => loadScript(\"vega-lite\"))\n",
       "        .then(() => loadScript(\"vega-embed\"))\n",
       "        .catch(showError)\n",
       "        .then(() => displayChart(vegaEmbed));\n",
       "    }\n",
       "  })({\"config\": {\"view\": {\"continuousWidth\": 400, \"continuousHeight\": 300}}, \"data\": {\"name\": \"data-98ae83e5d702045aa997eca40b770a99\"}, \"mark\": \"point\", \"encoding\": {\"color\": {\"type\": \"nominal\", \"field\": \"species\"}, \"size\": {\"type\": \"quantitative\", \"field\": \"sepal_length\"}, \"x\": {\"type\": \"quantitative\", \"field\": \"sepal_width\"}, \"y\": {\"type\": \"quantitative\", \"field\": \"sepal_length\"}}, \"$schema\": \"https://vega.github.io/schema/vega-lite/v4.8.1.json\", \"datasets\": {\"data-98ae83e5d702045aa997eca40b770a99\": [{\"sepal_length\": 5.1, \"sepal_width\": 3.5, \"petal_length\": 1.4, \"petal_width\": 0.2, \"species\": \"setosa\", \"species_id\": 1}, {\"sepal_length\": 4.9, \"sepal_width\": 3.0, \"petal_length\": 1.4, \"petal_width\": 0.2, \"species\": \"setosa\", \"species_id\": 1}, {\"sepal_length\": 4.7, \"sepal_width\": 3.2, \"petal_length\": 1.3, \"petal_width\": 0.2, \"species\": \"setosa\", \"species_id\": 1}, {\"sepal_length\": 4.6, \"sepal_width\": 3.1, \"petal_length\": 1.5, \"petal_width\": 0.2, \"species\": \"setosa\", \"species_id\": 1}, {\"sepal_length\": 5.0, \"sepal_width\": 3.6, \"petal_length\": 1.4, \"petal_width\": 0.2, \"species\": \"setosa\", \"species_id\": 1}, {\"sepal_length\": 5.4, \"sepal_width\": 3.9, \"petal_length\": 1.7, \"petal_width\": 0.4, \"species\": \"setosa\", \"species_id\": 1}, {\"sepal_length\": 4.6, \"sepal_width\": 3.4, \"petal_length\": 1.4, \"petal_width\": 0.3, \"species\": \"setosa\", \"species_id\": 1}, {\"sepal_length\": 5.0, \"sepal_width\": 3.4, \"petal_length\": 1.5, \"petal_width\": 0.2, \"species\": \"setosa\", \"species_id\": 1}, {\"sepal_length\": 4.4, \"sepal_width\": 2.9, \"petal_length\": 1.4, \"petal_width\": 0.2, \"species\": \"setosa\", \"species_id\": 1}, {\"sepal_length\": 4.9, \"sepal_width\": 3.1, \"petal_length\": 1.5, \"petal_width\": 0.1, \"species\": \"setosa\", \"species_id\": 1}, {\"sepal_length\": 5.4, \"sepal_width\": 3.7, \"petal_length\": 1.5, \"petal_width\": 0.2, \"species\": \"setosa\", \"species_id\": 1}, {\"sepal_length\": 4.8, \"sepal_width\": 3.4, \"petal_length\": 1.6, \"petal_width\": 0.2, \"species\": \"setosa\", \"species_id\": 1}, {\"sepal_length\": 4.8, \"sepal_width\": 3.0, \"petal_length\": 1.4, \"petal_width\": 0.1, \"species\": \"setosa\", \"species_id\": 1}, {\"sepal_length\": 4.3, \"sepal_width\": 3.0, \"petal_length\": 1.1, \"petal_width\": 0.1, \"species\": \"setosa\", \"species_id\": 1}, {\"sepal_length\": 5.8, \"sepal_width\": 4.0, \"petal_length\": 1.2, \"petal_width\": 0.2, \"species\": \"setosa\", \"species_id\": 1}, {\"sepal_length\": 5.7, \"sepal_width\": 4.4, \"petal_length\": 1.5, \"petal_width\": 0.4, \"species\": \"setosa\", \"species_id\": 1}, {\"sepal_length\": 5.4, \"sepal_width\": 3.9, \"petal_length\": 1.3, \"petal_width\": 0.4, \"species\": \"setosa\", \"species_id\": 1}, {\"sepal_length\": 5.1, \"sepal_width\": 3.5, \"petal_length\": 1.4, \"petal_width\": 0.3, \"species\": \"setosa\", \"species_id\": 1}, {\"sepal_length\": 5.7, \"sepal_width\": 3.8, \"petal_length\": 1.7, \"petal_width\": 0.3, \"species\": \"setosa\", \"species_id\": 1}, {\"sepal_length\": 5.1, \"sepal_width\": 3.8, \"petal_length\": 1.5, \"petal_width\": 0.3, \"species\": \"setosa\", \"species_id\": 1}, {\"sepal_length\": 5.4, \"sepal_width\": 3.4, \"petal_length\": 1.7, \"petal_width\": 0.2, \"species\": \"setosa\", \"species_id\": 1}, {\"sepal_length\": 5.1, \"sepal_width\": 3.7, \"petal_length\": 1.5, \"petal_width\": 0.4, \"species\": \"setosa\", \"species_id\": 1}, {\"sepal_length\": 4.6, \"sepal_width\": 3.6, \"petal_length\": 1.0, \"petal_width\": 0.2, \"species\": \"setosa\", \"species_id\": 1}, {\"sepal_length\": 5.1, \"sepal_width\": 3.3, \"petal_length\": 1.7, \"petal_width\": 0.5, \"species\": \"setosa\", \"species_id\": 1}, {\"sepal_length\": 4.8, \"sepal_width\": 3.4, \"petal_length\": 1.9, \"petal_width\": 0.2, \"species\": \"setosa\", \"species_id\": 1}, {\"sepal_length\": 5.0, \"sepal_width\": 3.0, \"petal_length\": 1.6, \"petal_width\": 0.2, \"species\": \"setosa\", \"species_id\": 1}, {\"sepal_length\": 5.0, \"sepal_width\": 3.4, \"petal_length\": 1.6, \"petal_width\": 0.4, \"species\": \"setosa\", \"species_id\": 1}, {\"sepal_length\": 5.2, \"sepal_width\": 3.5, \"petal_length\": 1.5, \"petal_width\": 0.2, \"species\": \"setosa\", \"species_id\": 1}, {\"sepal_length\": 5.2, \"sepal_width\": 3.4, \"petal_length\": 1.4, \"petal_width\": 0.2, \"species\": \"setosa\", \"species_id\": 1}, {\"sepal_length\": 4.7, \"sepal_width\": 3.2, \"petal_length\": 1.6, \"petal_width\": 0.2, \"species\": \"setosa\", \"species_id\": 1}, {\"sepal_length\": 4.8, \"sepal_width\": 3.1, \"petal_length\": 1.6, \"petal_width\": 0.2, \"species\": \"setosa\", \"species_id\": 1}, {\"sepal_length\": 5.4, \"sepal_width\": 3.4, \"petal_length\": 1.5, \"petal_width\": 0.4, \"species\": \"setosa\", \"species_id\": 1}, {\"sepal_length\": 5.2, \"sepal_width\": 4.1, \"petal_length\": 1.5, \"petal_width\": 0.1, \"species\": \"setosa\", \"species_id\": 1}, {\"sepal_length\": 5.5, \"sepal_width\": 4.2, \"petal_length\": 1.4, \"petal_width\": 0.2, \"species\": \"setosa\", \"species_id\": 1}, {\"sepal_length\": 4.9, \"sepal_width\": 3.1, \"petal_length\": 1.5, \"petal_width\": 0.1, \"species\": \"setosa\", \"species_id\": 1}, {\"sepal_length\": 5.0, \"sepal_width\": 3.2, \"petal_length\": 1.2, \"petal_width\": 0.2, \"species\": \"setosa\", \"species_id\": 1}, {\"sepal_length\": 5.5, \"sepal_width\": 3.5, \"petal_length\": 1.3, \"petal_width\": 0.2, \"species\": \"setosa\", \"species_id\": 1}, {\"sepal_length\": 4.9, \"sepal_width\": 3.1, \"petal_length\": 1.5, \"petal_width\": 0.1, \"species\": \"setosa\", \"species_id\": 1}, {\"sepal_length\": 4.4, \"sepal_width\": 3.0, \"petal_length\": 1.3, \"petal_width\": 0.2, \"species\": \"setosa\", \"species_id\": 1}, {\"sepal_length\": 5.1, \"sepal_width\": 3.4, \"petal_length\": 1.5, \"petal_width\": 0.2, \"species\": \"setosa\", \"species_id\": 1}, {\"sepal_length\": 5.0, \"sepal_width\": 3.5, \"petal_length\": 1.3, \"petal_width\": 0.3, \"species\": \"setosa\", \"species_id\": 1}, {\"sepal_length\": 4.5, \"sepal_width\": 2.3, \"petal_length\": 1.3, \"petal_width\": 0.3, \"species\": \"setosa\", \"species_id\": 1}, {\"sepal_length\": 4.4, \"sepal_width\": 3.2, \"petal_length\": 1.3, \"petal_width\": 0.2, \"species\": \"setosa\", \"species_id\": 1}, {\"sepal_length\": 5.0, \"sepal_width\": 3.5, \"petal_length\": 1.6, \"petal_width\": 0.6, \"species\": \"setosa\", \"species_id\": 1}, {\"sepal_length\": 5.1, \"sepal_width\": 3.8, \"petal_length\": 1.9, \"petal_width\": 0.4, \"species\": \"setosa\", \"species_id\": 1}, {\"sepal_length\": 4.8, \"sepal_width\": 3.0, \"petal_length\": 1.4, \"petal_width\": 0.3, \"species\": \"setosa\", \"species_id\": 1}, {\"sepal_length\": 5.1, \"sepal_width\": 3.8, \"petal_length\": 1.6, \"petal_width\": 0.2, \"species\": \"setosa\", \"species_id\": 1}, {\"sepal_length\": 4.6, \"sepal_width\": 3.2, \"petal_length\": 1.4, \"petal_width\": 0.2, \"species\": \"setosa\", \"species_id\": 1}, {\"sepal_length\": 5.3, \"sepal_width\": 3.7, \"petal_length\": 1.5, \"petal_width\": 0.2, \"species\": \"setosa\", \"species_id\": 1}, {\"sepal_length\": 5.0, \"sepal_width\": 3.3, \"petal_length\": 1.4, \"petal_width\": 0.2, \"species\": \"setosa\", \"species_id\": 1}, {\"sepal_length\": 7.0, \"sepal_width\": 3.2, \"petal_length\": 4.7, \"petal_width\": 1.4, \"species\": \"versicolor\", \"species_id\": 2}, {\"sepal_length\": 6.4, \"sepal_width\": 3.2, \"petal_length\": 4.5, \"petal_width\": 1.5, \"species\": \"versicolor\", \"species_id\": 2}, {\"sepal_length\": 6.9, \"sepal_width\": 3.1, \"petal_length\": 4.9, \"petal_width\": 1.5, \"species\": \"versicolor\", \"species_id\": 2}, {\"sepal_length\": 5.5, \"sepal_width\": 2.3, \"petal_length\": 4.0, \"petal_width\": 1.3, \"species\": \"versicolor\", \"species_id\": 2}, {\"sepal_length\": 6.5, \"sepal_width\": 2.8, \"petal_length\": 4.6, \"petal_width\": 1.5, \"species\": \"versicolor\", \"species_id\": 2}, {\"sepal_length\": 5.7, \"sepal_width\": 2.8, \"petal_length\": 4.5, \"petal_width\": 1.3, \"species\": \"versicolor\", \"species_id\": 2}, {\"sepal_length\": 6.3, \"sepal_width\": 3.3, \"petal_length\": 4.7, \"petal_width\": 1.6, \"species\": \"versicolor\", \"species_id\": 2}, {\"sepal_length\": 4.9, \"sepal_width\": 2.4, \"petal_length\": 3.3, \"petal_width\": 1.0, \"species\": \"versicolor\", \"species_id\": 2}, {\"sepal_length\": 6.6, \"sepal_width\": 2.9, \"petal_length\": 4.6, \"petal_width\": 1.3, \"species\": \"versicolor\", \"species_id\": 2}, {\"sepal_length\": 5.2, \"sepal_width\": 2.7, \"petal_length\": 3.9, \"petal_width\": 1.4, \"species\": \"versicolor\", \"species_id\": 2}, {\"sepal_length\": 5.0, \"sepal_width\": 2.0, \"petal_length\": 3.5, \"petal_width\": 1.0, \"species\": \"versicolor\", \"species_id\": 2}, {\"sepal_length\": 5.9, \"sepal_width\": 3.0, \"petal_length\": 4.2, \"petal_width\": 1.5, \"species\": \"versicolor\", \"species_id\": 2}, {\"sepal_length\": 6.0, \"sepal_width\": 2.2, \"petal_length\": 4.0, \"petal_width\": 1.0, \"species\": \"versicolor\", \"species_id\": 2}, {\"sepal_length\": 6.1, \"sepal_width\": 2.9, \"petal_length\": 4.7, \"petal_width\": 1.4, \"species\": \"versicolor\", \"species_id\": 2}, {\"sepal_length\": 5.6, \"sepal_width\": 2.9, \"petal_length\": 3.6, \"petal_width\": 1.3, \"species\": \"versicolor\", \"species_id\": 2}, {\"sepal_length\": 6.7, \"sepal_width\": 3.1, \"petal_length\": 4.4, \"petal_width\": 1.4, \"species\": \"versicolor\", \"species_id\": 2}, {\"sepal_length\": 5.6, \"sepal_width\": 3.0, \"petal_length\": 4.5, \"petal_width\": 1.5, \"species\": \"versicolor\", \"species_id\": 2}, {\"sepal_length\": 5.8, \"sepal_width\": 2.7, \"petal_length\": 4.1, \"petal_width\": 1.0, \"species\": \"versicolor\", \"species_id\": 2}, {\"sepal_length\": 6.2, \"sepal_width\": 2.2, \"petal_length\": 4.5, \"petal_width\": 1.5, \"species\": \"versicolor\", \"species_id\": 2}, {\"sepal_length\": 5.6, \"sepal_width\": 2.5, \"petal_length\": 3.9, \"petal_width\": 1.1, \"species\": \"versicolor\", \"species_id\": 2}, {\"sepal_length\": 5.9, \"sepal_width\": 3.2, \"petal_length\": 4.8, \"petal_width\": 1.8, \"species\": \"versicolor\", \"species_id\": 2}, {\"sepal_length\": 6.1, \"sepal_width\": 2.8, \"petal_length\": 4.0, \"petal_width\": 1.3, \"species\": \"versicolor\", \"species_id\": 2}, {\"sepal_length\": 6.3, \"sepal_width\": 2.5, \"petal_length\": 4.9, \"petal_width\": 1.5, \"species\": \"versicolor\", \"species_id\": 2}, {\"sepal_length\": 6.1, \"sepal_width\": 2.8, \"petal_length\": 4.7, \"petal_width\": 1.2, \"species\": \"versicolor\", \"species_id\": 2}, {\"sepal_length\": 6.4, \"sepal_width\": 2.9, \"petal_length\": 4.3, \"petal_width\": 1.3, \"species\": \"versicolor\", \"species_id\": 2}, {\"sepal_length\": 6.6, \"sepal_width\": 3.0, \"petal_length\": 4.4, \"petal_width\": 1.4, \"species\": \"versicolor\", \"species_id\": 2}, {\"sepal_length\": 6.8, \"sepal_width\": 2.8, \"petal_length\": 4.8, \"petal_width\": 1.4, \"species\": \"versicolor\", \"species_id\": 2}, {\"sepal_length\": 6.7, \"sepal_width\": 3.0, \"petal_length\": 5.0, \"petal_width\": 1.7, \"species\": \"versicolor\", \"species_id\": 2}, {\"sepal_length\": 6.0, \"sepal_width\": 2.9, \"petal_length\": 4.5, \"petal_width\": 1.5, \"species\": \"versicolor\", \"species_id\": 2}, {\"sepal_length\": 5.7, \"sepal_width\": 2.6, \"petal_length\": 3.5, \"petal_width\": 1.0, \"species\": \"versicolor\", \"species_id\": 2}, {\"sepal_length\": 5.5, \"sepal_width\": 2.4, \"petal_length\": 3.8, \"petal_width\": 1.1, \"species\": \"versicolor\", \"species_id\": 2}, {\"sepal_length\": 5.5, \"sepal_width\": 2.4, \"petal_length\": 3.7, \"petal_width\": 1.0, \"species\": \"versicolor\", \"species_id\": 2}, {\"sepal_length\": 5.8, \"sepal_width\": 2.7, \"petal_length\": 3.9, \"petal_width\": 1.2, \"species\": \"versicolor\", \"species_id\": 2}, {\"sepal_length\": 6.0, \"sepal_width\": 2.7, \"petal_length\": 5.1, \"petal_width\": 1.6, \"species\": \"versicolor\", \"species_id\": 2}, {\"sepal_length\": 5.4, \"sepal_width\": 3.0, \"petal_length\": 4.5, \"petal_width\": 1.5, \"species\": \"versicolor\", \"species_id\": 2}, {\"sepal_length\": 6.0, \"sepal_width\": 3.4, \"petal_length\": 4.5, \"petal_width\": 1.6, \"species\": \"versicolor\", \"species_id\": 2}, {\"sepal_length\": 6.7, \"sepal_width\": 3.1, \"petal_length\": 4.7, \"petal_width\": 1.5, \"species\": \"versicolor\", \"species_id\": 2}, {\"sepal_length\": 6.3, \"sepal_width\": 2.3, \"petal_length\": 4.4, \"petal_width\": 1.3, \"species\": \"versicolor\", \"species_id\": 2}, {\"sepal_length\": 5.6, \"sepal_width\": 3.0, \"petal_length\": 4.1, \"petal_width\": 1.3, \"species\": \"versicolor\", \"species_id\": 2}, {\"sepal_length\": 5.5, \"sepal_width\": 2.5, \"petal_length\": 4.0, \"petal_width\": 1.3, \"species\": \"versicolor\", \"species_id\": 2}, {\"sepal_length\": 5.5, \"sepal_width\": 2.6, \"petal_length\": 4.4, \"petal_width\": 1.2, \"species\": \"versicolor\", \"species_id\": 2}, {\"sepal_length\": 6.1, \"sepal_width\": 3.0, \"petal_length\": 4.6, \"petal_width\": 1.4, \"species\": \"versicolor\", \"species_id\": 2}, {\"sepal_length\": 5.8, \"sepal_width\": 2.6, \"petal_length\": 4.0, \"petal_width\": 1.2, \"species\": \"versicolor\", \"species_id\": 2}, {\"sepal_length\": 5.0, \"sepal_width\": 2.3, \"petal_length\": 3.3, \"petal_width\": 1.0, \"species\": \"versicolor\", \"species_id\": 2}, {\"sepal_length\": 5.6, \"sepal_width\": 2.7, \"petal_length\": 4.2, \"petal_width\": 1.3, \"species\": \"versicolor\", \"species_id\": 2}, {\"sepal_length\": 5.7, \"sepal_width\": 3.0, \"petal_length\": 4.2, \"petal_width\": 1.2, \"species\": \"versicolor\", \"species_id\": 2}, {\"sepal_length\": 5.7, \"sepal_width\": 2.9, \"petal_length\": 4.2, \"petal_width\": 1.3, \"species\": \"versicolor\", \"species_id\": 2}, {\"sepal_length\": 6.2, \"sepal_width\": 2.9, \"petal_length\": 4.3, \"petal_width\": 1.3, \"species\": \"versicolor\", \"species_id\": 2}, {\"sepal_length\": 5.1, \"sepal_width\": 2.5, \"petal_length\": 3.0, \"petal_width\": 1.1, \"species\": \"versicolor\", \"species_id\": 2}, {\"sepal_length\": 5.7, \"sepal_width\": 2.8, \"petal_length\": 4.1, \"petal_width\": 1.3, \"species\": \"versicolor\", \"species_id\": 2}, {\"sepal_length\": 6.3, \"sepal_width\": 3.3, \"petal_length\": 6.0, \"petal_width\": 2.5, \"species\": \"virginica\", \"species_id\": 3}, {\"sepal_length\": 5.8, \"sepal_width\": 2.7, \"petal_length\": 5.1, \"petal_width\": 1.9, \"species\": \"virginica\", \"species_id\": 3}, {\"sepal_length\": 7.1, \"sepal_width\": 3.0, \"petal_length\": 5.9, \"petal_width\": 2.1, \"species\": \"virginica\", \"species_id\": 3}, {\"sepal_length\": 6.3, \"sepal_width\": 2.9, \"petal_length\": 5.6, \"petal_width\": 1.8, \"species\": \"virginica\", \"species_id\": 3}, {\"sepal_length\": 6.5, \"sepal_width\": 3.0, \"petal_length\": 5.8, \"petal_width\": 2.2, \"species\": \"virginica\", \"species_id\": 3}, {\"sepal_length\": 7.6, \"sepal_width\": 3.0, \"petal_length\": 6.6, \"petal_width\": 2.1, \"species\": \"virginica\", \"species_id\": 3}, {\"sepal_length\": 4.9, \"sepal_width\": 2.5, \"petal_length\": 4.5, \"petal_width\": 1.7, \"species\": \"virginica\", \"species_id\": 3}, {\"sepal_length\": 7.3, \"sepal_width\": 2.9, \"petal_length\": 6.3, \"petal_width\": 1.8, \"species\": \"virginica\", \"species_id\": 3}, {\"sepal_length\": 6.7, \"sepal_width\": 2.5, \"petal_length\": 5.8, \"petal_width\": 1.8, \"species\": \"virginica\", \"species_id\": 3}, {\"sepal_length\": 7.2, \"sepal_width\": 3.6, \"petal_length\": 6.1, \"petal_width\": 2.5, \"species\": \"virginica\", \"species_id\": 3}, {\"sepal_length\": 6.5, \"sepal_width\": 3.2, \"petal_length\": 5.1, \"petal_width\": 2.0, \"species\": \"virginica\", \"species_id\": 3}, {\"sepal_length\": 6.4, \"sepal_width\": 2.7, \"petal_length\": 5.3, \"petal_width\": 1.9, \"species\": \"virginica\", \"species_id\": 3}, {\"sepal_length\": 6.8, \"sepal_width\": 3.0, \"petal_length\": 5.5, \"petal_width\": 2.1, \"species\": \"virginica\", \"species_id\": 3}, {\"sepal_length\": 5.7, \"sepal_width\": 2.5, \"petal_length\": 5.0, \"petal_width\": 2.0, \"species\": \"virginica\", \"species_id\": 3}, {\"sepal_length\": 5.8, \"sepal_width\": 2.8, \"petal_length\": 5.1, \"petal_width\": 2.4, \"species\": \"virginica\", \"species_id\": 3}, {\"sepal_length\": 6.4, \"sepal_width\": 3.2, \"petal_length\": 5.3, \"petal_width\": 2.3, \"species\": \"virginica\", \"species_id\": 3}, {\"sepal_length\": 6.5, \"sepal_width\": 3.0, \"petal_length\": 5.5, \"petal_width\": 1.8, \"species\": \"virginica\", \"species_id\": 3}, {\"sepal_length\": 7.7, \"sepal_width\": 3.8, \"petal_length\": 6.7, \"petal_width\": 2.2, \"species\": \"virginica\", \"species_id\": 3}, {\"sepal_length\": 7.7, \"sepal_width\": 2.6, \"petal_length\": 6.9, \"petal_width\": 2.3, \"species\": \"virginica\", \"species_id\": 3}, {\"sepal_length\": 6.0, \"sepal_width\": 2.2, \"petal_length\": 5.0, \"petal_width\": 1.5, \"species\": \"virginica\", \"species_id\": 3}, {\"sepal_length\": 6.9, \"sepal_width\": 3.2, \"petal_length\": 5.7, \"petal_width\": 2.3, \"species\": \"virginica\", \"species_id\": 3}, {\"sepal_length\": 5.6, \"sepal_width\": 2.8, \"petal_length\": 4.9, \"petal_width\": 2.0, \"species\": \"virginica\", \"species_id\": 3}, {\"sepal_length\": 7.7, \"sepal_width\": 2.8, \"petal_length\": 6.7, \"petal_width\": 2.0, \"species\": \"virginica\", \"species_id\": 3}, {\"sepal_length\": 6.3, \"sepal_width\": 2.7, \"petal_length\": 4.9, \"petal_width\": 1.8, \"species\": \"virginica\", \"species_id\": 3}, {\"sepal_length\": 6.7, \"sepal_width\": 3.3, \"petal_length\": 5.7, \"petal_width\": 2.1, \"species\": \"virginica\", \"species_id\": 3}, {\"sepal_length\": 7.2, \"sepal_width\": 3.2, \"petal_length\": 6.0, \"petal_width\": 1.8, \"species\": \"virginica\", \"species_id\": 3}, {\"sepal_length\": 6.2, \"sepal_width\": 2.8, \"petal_length\": 4.8, \"petal_width\": 1.8, \"species\": \"virginica\", \"species_id\": 3}, {\"sepal_length\": 6.1, \"sepal_width\": 3.0, \"petal_length\": 4.9, \"petal_width\": 1.8, \"species\": \"virginica\", \"species_id\": 3}, {\"sepal_length\": 6.4, \"sepal_width\": 2.8, \"petal_length\": 5.6, \"petal_width\": 2.1, \"species\": \"virginica\", \"species_id\": 3}, {\"sepal_length\": 7.2, \"sepal_width\": 3.0, \"petal_length\": 5.8, \"petal_width\": 1.6, \"species\": \"virginica\", \"species_id\": 3}, {\"sepal_length\": 7.4, \"sepal_width\": 2.8, \"petal_length\": 6.1, \"petal_width\": 1.9, \"species\": \"virginica\", \"species_id\": 3}, {\"sepal_length\": 7.9, \"sepal_width\": 3.8, \"petal_length\": 6.4, \"petal_width\": 2.0, \"species\": \"virginica\", \"species_id\": 3}, {\"sepal_length\": 6.4, \"sepal_width\": 2.8, \"petal_length\": 5.6, \"petal_width\": 2.2, \"species\": \"virginica\", \"species_id\": 3}, {\"sepal_length\": 6.3, \"sepal_width\": 2.8, \"petal_length\": 5.1, \"petal_width\": 1.5, \"species\": \"virginica\", \"species_id\": 3}, {\"sepal_length\": 6.1, \"sepal_width\": 2.6, \"petal_length\": 5.6, \"petal_width\": 1.4, \"species\": \"virginica\", \"species_id\": 3}, {\"sepal_length\": 7.7, \"sepal_width\": 3.0, \"petal_length\": 6.1, \"petal_width\": 2.3, \"species\": \"virginica\", \"species_id\": 3}, {\"sepal_length\": 6.3, \"sepal_width\": 3.4, \"petal_length\": 5.6, \"petal_width\": 2.4, \"species\": \"virginica\", \"species_id\": 3}, {\"sepal_length\": 6.4, \"sepal_width\": 3.1, \"petal_length\": 5.5, \"petal_width\": 1.8, \"species\": \"virginica\", \"species_id\": 3}, {\"sepal_length\": 6.0, \"sepal_width\": 3.0, \"petal_length\": 4.8, \"petal_width\": 1.8, \"species\": \"virginica\", \"species_id\": 3}, {\"sepal_length\": 6.9, \"sepal_width\": 3.1, \"petal_length\": 5.4, \"petal_width\": 2.1, \"species\": \"virginica\", \"species_id\": 3}, {\"sepal_length\": 6.7, \"sepal_width\": 3.1, \"petal_length\": 5.6, \"petal_width\": 2.4, \"species\": \"virginica\", \"species_id\": 3}, {\"sepal_length\": 6.9, \"sepal_width\": 3.1, \"petal_length\": 5.1, \"petal_width\": 2.3, \"species\": \"virginica\", \"species_id\": 3}, {\"sepal_length\": 5.8, \"sepal_width\": 2.7, \"petal_length\": 5.1, \"petal_width\": 1.9, \"species\": \"virginica\", \"species_id\": 3}, {\"sepal_length\": 6.8, \"sepal_width\": 3.2, \"petal_length\": 5.9, \"petal_width\": 2.3, \"species\": \"virginica\", \"species_id\": 3}, {\"sepal_length\": 6.7, \"sepal_width\": 3.3, \"petal_length\": 5.7, \"petal_width\": 2.5, \"species\": \"virginica\", \"species_id\": 3}, {\"sepal_length\": 6.7, \"sepal_width\": 3.0, \"petal_length\": 5.2, \"petal_width\": 2.3, \"species\": \"virginica\", \"species_id\": 3}, {\"sepal_length\": 6.3, \"sepal_width\": 2.5, \"petal_length\": 5.0, \"petal_width\": 1.9, \"species\": \"virginica\", \"species_id\": 3}, {\"sepal_length\": 6.5, \"sepal_width\": 3.0, \"petal_length\": 5.2, \"petal_width\": 2.0, \"species\": \"virginica\", \"species_id\": 3}, {\"sepal_length\": 6.2, \"sepal_width\": 3.4, \"petal_length\": 5.4, \"petal_width\": 2.3, \"species\": \"virginica\", \"species_id\": 3}, {\"sepal_length\": 5.9, \"sepal_width\": 3.0, \"petal_length\": 5.1, \"petal_width\": 1.8, \"species\": \"virginica\", \"species_id\": 3}]}}, {\"mode\": \"vega-lite\"});\n",
       "</script>"
      ],
      "text/plain": [
       "alt.Chart(...)"
      ]
     },
     "execution_count": 2,
     "metadata": {},
     "output_type": "execute_result"
    }
   ],
   "source": [
    "import altair as alt\n",
    "alt.Chart(data=data).mark_point().encode(\n",
    "    x=\"sepal_width\",\n",
    "    y=\"sepal_length\",\n",
    "    color=\"species\",\n",
    "    size='sepal_length'\n",
    ")"
   ]
  },
  {
   "cell_type": "markdown",
   "metadata": {},
   "source": [
    "## Plotly\n",
    "\n",
    "Plotly is another interactive plotting library that provides a high-level API for\n",
    "visualization. See the [Plotly JupyterLab documentation](https://plotly.com/python/getting-started/#JupyterLab-Support-(Python-3.5+))\n",
    "to get started with Plotly in the notebook.\n",
    "\n",
    "```{margin}\n",
    "Plotly uses [renderers to output different kinds of information](https://plotly.com/python/renderers/)\n",
    "when you display a plot. Experiment with renderers to get the output you want.\n",
    "```\n",
    "\n",
    "Below is some example output.\n",
    "\n",
    ":::{important}\n",
    "For these plots to show, it may be necessary to load `require.js`, in your `_config.yml`:\n",
    "\n",
    "```yaml\n",
    "sphinx:\n",
    "  config:\n",
    "    html_js_files:\n",
    "    - https://cdnjs.cloudflare.com/ajax/libs/require.js/2.3.4/require.min.js\n",
    "```\n",
    ":::\n"
   ]
  },
  {
   "cell_type": "code",
   "execution_count": 3,
   "metadata": {},
   "outputs": [
    {
     "data": {
      "application/vnd.plotly.v1+json": {
       "config": {
        "plotlyServerURL": "https://plot.ly"
       },
       "data": [
        {
         "hovertemplate": "species=setosa<br>sepal_width=%{x}<br>sepal_length=%{marker.size}<extra></extra>",
         "legendgroup": "setosa",
         "marker": {
          "color": "#636efa",
          "size": [
           5.1,
           4.9,
           4.7,
           4.6,
           5,
           5.4,
           4.6,
           5,
           4.4,
           4.9,
           5.4,
           4.8,
           4.8,
           4.3,
           5.8,
           5.7,
           5.4,
           5.1,
           5.7,
           5.1,
           5.4,
           5.1,
           4.6,
           5.1,
           4.8,
           5,
           5,
           5.2,
           5.2,
           4.7,
           4.8,
           5.4,
           5.2,
           5.5,
           4.9,
           5,
           5.5,
           4.9,
           4.4,
           5.1,
           5,
           4.5,
           4.4,
           5,
           5.1,
           4.8,
           5.1,
           4.6,
           5.3,
           5
          ],
          "sizemode": "area",
          "sizeref": 0.01975,
          "symbol": "circle"
         },
         "mode": "markers",
         "name": "setosa",
         "orientation": "v",
         "showlegend": true,
         "type": "scatter",
         "x": [
          3.5,
          3,
          3.2,
          3.1,
          3.6,
          3.9,
          3.4,
          3.4,
          2.9,
          3.1,
          3.7,
          3.4,
          3,
          3,
          4,
          4.4,
          3.9,
          3.5,
          3.8,
          3.8,
          3.4,
          3.7,
          3.6,
          3.3,
          3.4,
          3,
          3.4,
          3.5,
          3.4,
          3.2,
          3.1,
          3.4,
          4.1,
          4.2,
          3.1,
          3.2,
          3.5,
          3.1,
          3,
          3.4,
          3.5,
          2.3,
          3.2,
          3.5,
          3.8,
          3,
          3.8,
          3.2,
          3.7,
          3.3
         ],
         "xaxis": "x",
         "y": [
          5.1,
          4.9,
          4.7,
          4.6,
          5,
          5.4,
          4.6,
          5,
          4.4,
          4.9,
          5.4,
          4.8,
          4.8,
          4.3,
          5.8,
          5.7,
          5.4,
          5.1,
          5.7,
          5.1,
          5.4,
          5.1,
          4.6,
          5.1,
          4.8,
          5,
          5,
          5.2,
          5.2,
          4.7,
          4.8,
          5.4,
          5.2,
          5.5,
          4.9,
          5,
          5.5,
          4.9,
          4.4,
          5.1,
          5,
          4.5,
          4.4,
          5,
          5.1,
          4.8,
          5.1,
          4.6,
          5.3,
          5
         ],
         "yaxis": "y"
        },
        {
         "hovertemplate": "species=versicolor<br>sepal_width=%{x}<br>sepal_length=%{marker.size}<extra></extra>",
         "legendgroup": "versicolor",
         "marker": {
          "color": "#EF553B",
          "size": [
           7,
           6.4,
           6.9,
           5.5,
           6.5,
           5.7,
           6.3,
           4.9,
           6.6,
           5.2,
           5,
           5.9,
           6,
           6.1,
           5.6,
           6.7,
           5.6,
           5.8,
           6.2,
           5.6,
           5.9,
           6.1,
           6.3,
           6.1,
           6.4,
           6.6,
           6.8,
           6.7,
           6,
           5.7,
           5.5,
           5.5,
           5.8,
           6,
           5.4,
           6,
           6.7,
           6.3,
           5.6,
           5.5,
           5.5,
           6.1,
           5.8,
           5,
           5.6,
           5.7,
           5.7,
           6.2,
           5.1,
           5.7
          ],
          "sizemode": "area",
          "sizeref": 0.01975,
          "symbol": "circle"
         },
         "mode": "markers",
         "name": "versicolor",
         "orientation": "v",
         "showlegend": true,
         "type": "scatter",
         "x": [
          3.2,
          3.2,
          3.1,
          2.3,
          2.8,
          2.8,
          3.3,
          2.4,
          2.9,
          2.7,
          2,
          3,
          2.2,
          2.9,
          2.9,
          3.1,
          3,
          2.7,
          2.2,
          2.5,
          3.2,
          2.8,
          2.5,
          2.8,
          2.9,
          3,
          2.8,
          3,
          2.9,
          2.6,
          2.4,
          2.4,
          2.7,
          2.7,
          3,
          3.4,
          3.1,
          2.3,
          3,
          2.5,
          2.6,
          3,
          2.6,
          2.3,
          2.7,
          3,
          2.9,
          2.9,
          2.5,
          2.8
         ],
         "xaxis": "x",
         "y": [
          7,
          6.4,
          6.9,
          5.5,
          6.5,
          5.7,
          6.3,
          4.9,
          6.6,
          5.2,
          5,
          5.9,
          6,
          6.1,
          5.6,
          6.7,
          5.6,
          5.8,
          6.2,
          5.6,
          5.9,
          6.1,
          6.3,
          6.1,
          6.4,
          6.6,
          6.8,
          6.7,
          6,
          5.7,
          5.5,
          5.5,
          5.8,
          6,
          5.4,
          6,
          6.7,
          6.3,
          5.6,
          5.5,
          5.5,
          6.1,
          5.8,
          5,
          5.6,
          5.7,
          5.7,
          6.2,
          5.1,
          5.7
         ],
         "yaxis": "y"
        },
        {
         "hovertemplate": "species=virginica<br>sepal_width=%{x}<br>sepal_length=%{marker.size}<extra></extra>",
         "legendgroup": "virginica",
         "marker": {
          "color": "#00cc96",
          "size": [
           6.3,
           5.8,
           7.1,
           6.3,
           6.5,
           7.6,
           4.9,
           7.3,
           6.7,
           7.2,
           6.5,
           6.4,
           6.8,
           5.7,
           5.8,
           6.4,
           6.5,
           7.7,
           7.7,
           6,
           6.9,
           5.6,
           7.7,
           6.3,
           6.7,
           7.2,
           6.2,
           6.1,
           6.4,
           7.2,
           7.4,
           7.9,
           6.4,
           6.3,
           6.1,
           7.7,
           6.3,
           6.4,
           6,
           6.9,
           6.7,
           6.9,
           5.8,
           6.8,
           6.7,
           6.7,
           6.3,
           6.5,
           6.2,
           5.9
          ],
          "sizemode": "area",
          "sizeref": 0.01975,
          "symbol": "circle"
         },
         "mode": "markers",
         "name": "virginica",
         "orientation": "v",
         "showlegend": true,
         "type": "scatter",
         "x": [
          3.3,
          2.7,
          3,
          2.9,
          3,
          3,
          2.5,
          2.9,
          2.5,
          3.6,
          3.2,
          2.7,
          3,
          2.5,
          2.8,
          3.2,
          3,
          3.8,
          2.6,
          2.2,
          3.2,
          2.8,
          2.8,
          2.7,
          3.3,
          3.2,
          2.8,
          3,
          2.8,
          3,
          2.8,
          3.8,
          2.8,
          2.8,
          2.6,
          3,
          3.4,
          3.1,
          3,
          3.1,
          3.1,
          3.1,
          2.7,
          3.2,
          3.3,
          3,
          2.5,
          3,
          3.4,
          3
         ],
         "xaxis": "x",
         "y": [
          6.3,
          5.8,
          7.1,
          6.3,
          6.5,
          7.6,
          4.9,
          7.3,
          6.7,
          7.2,
          6.5,
          6.4,
          6.8,
          5.7,
          5.8,
          6.4,
          6.5,
          7.7,
          7.7,
          6,
          6.9,
          5.6,
          7.7,
          6.3,
          6.7,
          7.2,
          6.2,
          6.1,
          6.4,
          7.2,
          7.4,
          7.9,
          6.4,
          6.3,
          6.1,
          7.7,
          6.3,
          6.4,
          6,
          6.9,
          6.7,
          6.9,
          5.8,
          6.8,
          6.7,
          6.7,
          6.3,
          6.5,
          6.2,
          5.9
         ],
         "yaxis": "y"
        }
       ],
       "layout": {
        "legend": {
         "itemsizing": "constant",
         "title": {
          "text": "species"
         },
         "tracegroupgap": 0
        },
        "margin": {
         "t": 60
        },
        "template": {
         "data": {
          "bar": [
           {
            "error_x": {
             "color": "#2a3f5f"
            },
            "error_y": {
             "color": "#2a3f5f"
            },
            "marker": {
             "line": {
              "color": "#E5ECF6",
              "width": 0.5
             },
             "pattern": {
              "fillmode": "overlay",
              "size": 10,
              "solidity": 0.2
             }
            },
            "type": "bar"
           }
          ],
          "barpolar": [
           {
            "marker": {
             "line": {
              "color": "#E5ECF6",
              "width": 0.5
             },
             "pattern": {
              "fillmode": "overlay",
              "size": 10,
              "solidity": 0.2
             }
            },
            "type": "barpolar"
           }
          ],
          "carpet": [
           {
            "aaxis": {
             "endlinecolor": "#2a3f5f",
             "gridcolor": "white",
             "linecolor": "white",
             "minorgridcolor": "white",
             "startlinecolor": "#2a3f5f"
            },
            "baxis": {
             "endlinecolor": "#2a3f5f",
             "gridcolor": "white",
             "linecolor": "white",
             "minorgridcolor": "white",
             "startlinecolor": "#2a3f5f"
            },
            "type": "carpet"
           }
          ],
          "choropleth": [
           {
            "colorbar": {
             "outlinewidth": 0,
             "ticks": ""
            },
            "type": "choropleth"
           }
          ],
          "contour": [
           {
            "colorbar": {
             "outlinewidth": 0,
             "ticks": ""
            },
            "colorscale": [
             [
              0,
              "#0d0887"
             ],
             [
              0.1111111111111111,
              "#46039f"
             ],
             [
              0.2222222222222222,
              "#7201a8"
             ],
             [
              0.3333333333333333,
              "#9c179e"
             ],
             [
              0.4444444444444444,
              "#bd3786"
             ],
             [
              0.5555555555555556,
              "#d8576b"
             ],
             [
              0.6666666666666666,
              "#ed7953"
             ],
             [
              0.7777777777777778,
              "#fb9f3a"
             ],
             [
              0.8888888888888888,
              "#fdca26"
             ],
             [
              1,
              "#f0f921"
             ]
            ],
            "type": "contour"
           }
          ],
          "contourcarpet": [
           {
            "colorbar": {
             "outlinewidth": 0,
             "ticks": ""
            },
            "type": "contourcarpet"
           }
          ],
          "heatmap": [
           {
            "colorbar": {
             "outlinewidth": 0,
             "ticks": ""
            },
            "colorscale": [
             [
              0,
              "#0d0887"
             ],
             [
              0.1111111111111111,
              "#46039f"
             ],
             [
              0.2222222222222222,
              "#7201a8"
             ],
             [
              0.3333333333333333,
              "#9c179e"
             ],
             [
              0.4444444444444444,
              "#bd3786"
             ],
             [
              0.5555555555555556,
              "#d8576b"
             ],
             [
              0.6666666666666666,
              "#ed7953"
             ],
             [
              0.7777777777777778,
              "#fb9f3a"
             ],
             [
              0.8888888888888888,
              "#fdca26"
             ],
             [
              1,
              "#f0f921"
             ]
            ],
            "type": "heatmap"
           }
          ],
          "heatmapgl": [
           {
            "colorbar": {
             "outlinewidth": 0,
             "ticks": ""
            },
            "colorscale": [
             [
              0,
              "#0d0887"
             ],
             [
              0.1111111111111111,
              "#46039f"
             ],
             [
              0.2222222222222222,
              "#7201a8"
             ],
             [
              0.3333333333333333,
              "#9c179e"
             ],
             [
              0.4444444444444444,
              "#bd3786"
             ],
             [
              0.5555555555555556,
              "#d8576b"
             ],
             [
              0.6666666666666666,
              "#ed7953"
             ],
             [
              0.7777777777777778,
              "#fb9f3a"
             ],
             [
              0.8888888888888888,
              "#fdca26"
             ],
             [
              1,
              "#f0f921"
             ]
            ],
            "type": "heatmapgl"
           }
          ],
          "histogram": [
           {
            "marker": {
             "pattern": {
              "fillmode": "overlay",
              "size": 10,
              "solidity": 0.2
             }
            },
            "type": "histogram"
           }
          ],
          "histogram2d": [
           {
            "colorbar": {
             "outlinewidth": 0,
             "ticks": ""
            },
            "colorscale": [
             [
              0,
              "#0d0887"
             ],
             [
              0.1111111111111111,
              "#46039f"
             ],
             [
              0.2222222222222222,
              "#7201a8"
             ],
             [
              0.3333333333333333,
              "#9c179e"
             ],
             [
              0.4444444444444444,
              "#bd3786"
             ],
             [
              0.5555555555555556,
              "#d8576b"
             ],
             [
              0.6666666666666666,
              "#ed7953"
             ],
             [
              0.7777777777777778,
              "#fb9f3a"
             ],
             [
              0.8888888888888888,
              "#fdca26"
             ],
             [
              1,
              "#f0f921"
             ]
            ],
            "type": "histogram2d"
           }
          ],
          "histogram2dcontour": [
           {
            "colorbar": {
             "outlinewidth": 0,
             "ticks": ""
            },
            "colorscale": [
             [
              0,
              "#0d0887"
             ],
             [
              0.1111111111111111,
              "#46039f"
             ],
             [
              0.2222222222222222,
              "#7201a8"
             ],
             [
              0.3333333333333333,
              "#9c179e"
             ],
             [
              0.4444444444444444,
              "#bd3786"
             ],
             [
              0.5555555555555556,
              "#d8576b"
             ],
             [
              0.6666666666666666,
              "#ed7953"
             ],
             [
              0.7777777777777778,
              "#fb9f3a"
             ],
             [
              0.8888888888888888,
              "#fdca26"
             ],
             [
              1,
              "#f0f921"
             ]
            ],
            "type": "histogram2dcontour"
           }
          ],
          "mesh3d": [
           {
            "colorbar": {
             "outlinewidth": 0,
             "ticks": ""
            },
            "type": "mesh3d"
           }
          ],
          "parcoords": [
           {
            "line": {
             "colorbar": {
              "outlinewidth": 0,
              "ticks": ""
             }
            },
            "type": "parcoords"
           }
          ],
          "pie": [
           {
            "automargin": true,
            "type": "pie"
           }
          ],
          "scatter": [
           {
            "marker": {
             "colorbar": {
              "outlinewidth": 0,
              "ticks": ""
             }
            },
            "type": "scatter"
           }
          ],
          "scatter3d": [
           {
            "line": {
             "colorbar": {
              "outlinewidth": 0,
              "ticks": ""
             }
            },
            "marker": {
             "colorbar": {
              "outlinewidth": 0,
              "ticks": ""
             }
            },
            "type": "scatter3d"
           }
          ],
          "scattercarpet": [
           {
            "marker": {
             "colorbar": {
              "outlinewidth": 0,
              "ticks": ""
             }
            },
            "type": "scattercarpet"
           }
          ],
          "scattergeo": [
           {
            "marker": {
             "colorbar": {
              "outlinewidth": 0,
              "ticks": ""
             }
            },
            "type": "scattergeo"
           }
          ],
          "scattergl": [
           {
            "marker": {
             "colorbar": {
              "outlinewidth": 0,
              "ticks": ""
             }
            },
            "type": "scattergl"
           }
          ],
          "scattermapbox": [
           {
            "marker": {
             "colorbar": {
              "outlinewidth": 0,
              "ticks": ""
             }
            },
            "type": "scattermapbox"
           }
          ],
          "scatterpolar": [
           {
            "marker": {
             "colorbar": {
              "outlinewidth": 0,
              "ticks": ""
             }
            },
            "type": "scatterpolar"
           }
          ],
          "scatterpolargl": [
           {
            "marker": {
             "colorbar": {
              "outlinewidth": 0,
              "ticks": ""
             }
            },
            "type": "scatterpolargl"
           }
          ],
          "scatterternary": [
           {
            "marker": {
             "colorbar": {
              "outlinewidth": 0,
              "ticks": ""
             }
            },
            "type": "scatterternary"
           }
          ],
          "surface": [
           {
            "colorbar": {
             "outlinewidth": 0,
             "ticks": ""
            },
            "colorscale": [
             [
              0,
              "#0d0887"
             ],
             [
              0.1111111111111111,
              "#46039f"
             ],
             [
              0.2222222222222222,
              "#7201a8"
             ],
             [
              0.3333333333333333,
              "#9c179e"
             ],
             [
              0.4444444444444444,
              "#bd3786"
             ],
             [
              0.5555555555555556,
              "#d8576b"
             ],
             [
              0.6666666666666666,
              "#ed7953"
             ],
             [
              0.7777777777777778,
              "#fb9f3a"
             ],
             [
              0.8888888888888888,
              "#fdca26"
             ],
             [
              1,
              "#f0f921"
             ]
            ],
            "type": "surface"
           }
          ],
          "table": [
           {
            "cells": {
             "fill": {
              "color": "#EBF0F8"
             },
             "line": {
              "color": "white"
             }
            },
            "header": {
             "fill": {
              "color": "#C8D4E3"
             },
             "line": {
              "color": "white"
             }
            },
            "type": "table"
           }
          ]
         },
         "layout": {
          "annotationdefaults": {
           "arrowcolor": "#2a3f5f",
           "arrowhead": 0,
           "arrowwidth": 1
          },
          "autotypenumbers": "strict",
          "coloraxis": {
           "colorbar": {
            "outlinewidth": 0,
            "ticks": ""
           }
          },
          "colorscale": {
           "diverging": [
            [
             0,
             "#8e0152"
            ],
            [
             0.1,
             "#c51b7d"
            ],
            [
             0.2,
             "#de77ae"
            ],
            [
             0.3,
             "#f1b6da"
            ],
            [
             0.4,
             "#fde0ef"
            ],
            [
             0.5,
             "#f7f7f7"
            ],
            [
             0.6,
             "#e6f5d0"
            ],
            [
             0.7,
             "#b8e186"
            ],
            [
             0.8,
             "#7fbc41"
            ],
            [
             0.9,
             "#4d9221"
            ],
            [
             1,
             "#276419"
            ]
           ],
           "sequential": [
            [
             0,
             "#0d0887"
            ],
            [
             0.1111111111111111,
             "#46039f"
            ],
            [
             0.2222222222222222,
             "#7201a8"
            ],
            [
             0.3333333333333333,
             "#9c179e"
            ],
            [
             0.4444444444444444,
             "#bd3786"
            ],
            [
             0.5555555555555556,
             "#d8576b"
            ],
            [
             0.6666666666666666,
             "#ed7953"
            ],
            [
             0.7777777777777778,
             "#fb9f3a"
            ],
            [
             0.8888888888888888,
             "#fdca26"
            ],
            [
             1,
             "#f0f921"
            ]
           ],
           "sequentialminus": [
            [
             0,
             "#0d0887"
            ],
            [
             0.1111111111111111,
             "#46039f"
            ],
            [
             0.2222222222222222,
             "#7201a8"
            ],
            [
             0.3333333333333333,
             "#9c179e"
            ],
            [
             0.4444444444444444,
             "#bd3786"
            ],
            [
             0.5555555555555556,
             "#d8576b"
            ],
            [
             0.6666666666666666,
             "#ed7953"
            ],
            [
             0.7777777777777778,
             "#fb9f3a"
            ],
            [
             0.8888888888888888,
             "#fdca26"
            ],
            [
             1,
             "#f0f921"
            ]
           ]
          },
          "colorway": [
           "#636efa",
           "#EF553B",
           "#00cc96",
           "#ab63fa",
           "#FFA15A",
           "#19d3f3",
           "#FF6692",
           "#B6E880",
           "#FF97FF",
           "#FECB52"
          ],
          "font": {
           "color": "#2a3f5f"
          },
          "geo": {
           "bgcolor": "white",
           "lakecolor": "white",
           "landcolor": "#E5ECF6",
           "showlakes": true,
           "showland": true,
           "subunitcolor": "white"
          },
          "hoverlabel": {
           "align": "left"
          },
          "hovermode": "closest",
          "mapbox": {
           "style": "light"
          },
          "paper_bgcolor": "white",
          "plot_bgcolor": "#E5ECF6",
          "polar": {
           "angularaxis": {
            "gridcolor": "white",
            "linecolor": "white",
            "ticks": ""
           },
           "bgcolor": "#E5ECF6",
           "radialaxis": {
            "gridcolor": "white",
            "linecolor": "white",
            "ticks": ""
           }
          },
          "scene": {
           "xaxis": {
            "backgroundcolor": "#E5ECF6",
            "gridcolor": "white",
            "gridwidth": 2,
            "linecolor": "white",
            "showbackground": true,
            "ticks": "",
            "zerolinecolor": "white"
           },
           "yaxis": {
            "backgroundcolor": "#E5ECF6",
            "gridcolor": "white",
            "gridwidth": 2,
            "linecolor": "white",
            "showbackground": true,
            "ticks": "",
            "zerolinecolor": "white"
           },
           "zaxis": {
            "backgroundcolor": "#E5ECF6",
            "gridcolor": "white",
            "gridwidth": 2,
            "linecolor": "white",
            "showbackground": true,
            "ticks": "",
            "zerolinecolor": "white"
           }
          },
          "shapedefaults": {
           "line": {
            "color": "#2a3f5f"
           }
          },
          "ternary": {
           "aaxis": {
            "gridcolor": "white",
            "linecolor": "white",
            "ticks": ""
           },
           "baxis": {
            "gridcolor": "white",
            "linecolor": "white",
            "ticks": ""
           },
           "bgcolor": "#E5ECF6",
           "caxis": {
            "gridcolor": "white",
            "linecolor": "white",
            "ticks": ""
           }
          },
          "title": {
           "x": 0.05
          },
          "xaxis": {
           "automargin": true,
           "gridcolor": "white",
           "linecolor": "white",
           "ticks": "",
           "title": {
            "standoff": 15
           },
           "zerolinecolor": "white",
           "zerolinewidth": 2
          },
          "yaxis": {
           "automargin": true,
           "gridcolor": "white",
           "linecolor": "white",
           "ticks": "",
           "title": {
            "standoff": 15
           },
           "zerolinecolor": "white",
           "zerolinewidth": 2
          }
         }
        },
        "xaxis": {
         "anchor": "y",
         "domain": [
          0,
          1
         ],
         "title": {
          "text": "sepal_width"
         }
        },
        "yaxis": {
         "anchor": "x",
         "domain": [
          0,
          1
         ],
         "title": {
          "text": "sepal_length"
         }
        }
       }
      }
     },
     "metadata": {},
     "output_type": "display_data"
    }
   ],
   "source": [
    "import plotly.io as pio\n",
    "import plotly.express as px\n",
    "import plotly.offline as py\n",
    "\n",
    "df = px.data.iris()\n",
    "fig = px.scatter(df, x=\"sepal_width\", y=\"sepal_length\", color=\"species\", size=\"sepal_length\")\n",
    "fig"
   ]
  },
  {
   "cell_type": "markdown",
   "metadata": {},
   "source": [
    "## Bokeh\n",
    "\n",
    "Bokeh provides several options for interactive visualizations, and is part of the PyViz ecosystem. See\n",
    "[the Bokeh with Jupyter documentation](https://docs.bokeh.org/en/latest/docs/user_guide/jupyter.html#userguide-jupyter) to\n",
    "get started.\n",
    "\n",
    "Below is some example output. First we'll initialized Bokeh with `output_notebook()`.\n",
    "This needs to be in a separate cell to give the JavaScript time to load."
   ]
  },
  {
   "cell_type": "code",
   "execution_count": 4,
   "metadata": {},
   "outputs": [
    {
     "data": {
      "text/html": [
       "\n",
       "    <div class=\"bk-root\">\n",
       "        <a href=\"https://bokeh.org\" target=\"_blank\" class=\"bk-logo bk-logo-small bk-logo-notebook\"></a>\n",
       "        <span id=\"1002\">Loading BokehJS ...</span>\n",
       "    </div>"
      ]
     },
     "metadata": {},
     "output_type": "display_data"
    },
    {
     "data": {
      "application/javascript": "\n(function(root) {\n  function now() {\n    return new Date();\n  }\n\n  const force = true;\n\n  if (typeof root._bokeh_onload_callbacks === \"undefined\" || force === true) {\n    root._bokeh_onload_callbacks = [];\n    root._bokeh_is_loading = undefined;\n  }\n\n  const JS_MIME_TYPE = 'application/javascript';\n  const HTML_MIME_TYPE = 'text/html';\n  const EXEC_MIME_TYPE = 'application/vnd.bokehjs_exec.v0+json';\n  const CLASS_NAME = 'output_bokeh rendered_html';\n\n  /**\n   * Render data to the DOM node\n   */\n  function render(props, node) {\n    const script = document.createElement(\"script\");\n    node.appendChild(script);\n  }\n\n  /**\n   * Handle when an output is cleared or removed\n   */\n  function handleClearOutput(event, handle) {\n    const cell = handle.cell;\n\n    const id = cell.output_area._bokeh_element_id;\n    const server_id = cell.output_area._bokeh_server_id;\n    // Clean up Bokeh references\n    if (id != null && id in Bokeh.index) {\n      Bokeh.index[id].model.document.clear();\n      delete Bokeh.index[id];\n    }\n\n    if (server_id !== undefined) {\n      // Clean up Bokeh references\n      const cmd_clean = \"from bokeh.io.state import curstate; print(curstate().uuid_to_server['\" + server_id + \"'].get_sessions()[0].document.roots[0]._id)\";\n      cell.notebook.kernel.execute(cmd_clean, {\n        iopub: {\n          output: function(msg) {\n            const id = msg.content.text.trim();\n            if (id in Bokeh.index) {\n              Bokeh.index[id].model.document.clear();\n              delete Bokeh.index[id];\n            }\n          }\n        }\n      });\n      // Destroy server and session\n      const cmd_destroy = \"import bokeh.io.notebook as ion; ion.destroy_server('\" + server_id + \"')\";\n      cell.notebook.kernel.execute(cmd_destroy);\n    }\n  }\n\n  /**\n   * Handle when a new output is added\n   */\n  function handleAddOutput(event, handle) {\n    const output_area = handle.output_area;\n    const output = handle.output;\n\n    // limit handleAddOutput to display_data with EXEC_MIME_TYPE content only\n    if ((output.output_type != \"display_data\") || (!Object.prototype.hasOwnProperty.call(output.data, EXEC_MIME_TYPE))) {\n      return\n    }\n\n    const toinsert = output_area.element.find(\".\" + CLASS_NAME.split(' ')[0]);\n\n    if (output.metadata[EXEC_MIME_TYPE][\"id\"] !== undefined) {\n      toinsert[toinsert.length - 1].firstChild.textContent = output.data[JS_MIME_TYPE];\n      // store reference to embed id on output_area\n      output_area._bokeh_element_id = output.metadata[EXEC_MIME_TYPE][\"id\"];\n    }\n    if (output.metadata[EXEC_MIME_TYPE][\"server_id\"] !== undefined) {\n      const bk_div = document.createElement(\"div\");\n      bk_div.innerHTML = output.data[HTML_MIME_TYPE];\n      const script_attrs = bk_div.children[0].attributes;\n      for (let i = 0; i < script_attrs.length; i++) {\n        toinsert[toinsert.length - 1].firstChild.setAttribute(script_attrs[i].name, script_attrs[i].value);\n        toinsert[toinsert.length - 1].firstChild.textContent = bk_div.children[0].textContent\n      }\n      // store reference to server id on output_area\n      output_area._bokeh_server_id = output.metadata[EXEC_MIME_TYPE][\"server_id\"];\n    }\n  }\n\n  function register_renderer(events, OutputArea) {\n\n    function append_mime(data, metadata, element) {\n      // create a DOM node to render to\n      const toinsert = this.create_output_subarea(\n        metadata,\n        CLASS_NAME,\n        EXEC_MIME_TYPE\n      );\n      this.keyboard_manager.register_events(toinsert);\n      // Render to node\n      const props = {data: data, metadata: metadata[EXEC_MIME_TYPE]};\n      render(props, toinsert[toinsert.length - 1]);\n      element.append(toinsert);\n      return toinsert\n    }\n\n    /* Handle when an output is cleared or removed */\n    events.on('clear_output.CodeCell', handleClearOutput);\n    events.on('delete.Cell', handleClearOutput);\n\n    /* Handle when a new output is added */\n    events.on('output_added.OutputArea', handleAddOutput);\n\n    /**\n     * Register the mime type and append_mime function with output_area\n     */\n    OutputArea.prototype.register_mime_type(EXEC_MIME_TYPE, append_mime, {\n      /* Is output safe? */\n      safe: true,\n      /* Index of renderer in `output_area.display_order` */\n      index: 0\n    });\n  }\n\n  // register the mime type if in Jupyter Notebook environment and previously unregistered\n  if (root.Jupyter !== undefined) {\n    const events = require('base/js/events');\n    const OutputArea = require('notebook/js/outputarea').OutputArea;\n\n    if (OutputArea.prototype.mime_types().indexOf(EXEC_MIME_TYPE) == -1) {\n      register_renderer(events, OutputArea);\n    }\n  }\n\n  \n  if (typeof (root._bokeh_timeout) === \"undefined\" || force === true) {\n    root._bokeh_timeout = Date.now() + 5000;\n    root._bokeh_failed_load = false;\n  }\n\n  const NB_LOAD_WARNING = {'data': {'text/html':\n     \"<div style='background-color: #fdd'>\\n\"+\n     \"<p>\\n\"+\n     \"BokehJS does not appear to have successfully loaded. If loading BokehJS from CDN, this \\n\"+\n     \"may be due to a slow or bad network connection. Possible fixes:\\n\"+\n     \"</p>\\n\"+\n     \"<ul>\\n\"+\n     \"<li>re-rerun `output_notebook()` to attempt to load from CDN again, or</li>\\n\"+\n     \"<li>use INLINE resources instead, as so:</li>\\n\"+\n     \"</ul>\\n\"+\n     \"<code>\\n\"+\n     \"from bokeh.resources import INLINE\\n\"+\n     \"output_notebook(resources=INLINE)\\n\"+\n     \"</code>\\n\"+\n     \"</div>\"}};\n\n  function display_loaded() {\n    const el = document.getElementById(\"1002\");\n    if (el != null) {\n      el.textContent = \"BokehJS is loading...\";\n    }\n    if (root.Bokeh !== undefined) {\n      if (el != null) {\n        el.textContent = \"BokehJS \" + root.Bokeh.version + \" successfully loaded.\";\n      }\n    } else if (Date.now() < root._bokeh_timeout) {\n      setTimeout(display_loaded, 100)\n    }\n  }\n\n\n  function run_callbacks() {\n    try {\n      root._bokeh_onload_callbacks.forEach(function(callback) {\n        if (callback != null)\n          callback();\n      });\n    } finally {\n      delete root._bokeh_onload_callbacks\n    }\n    console.debug(\"Bokeh: all callbacks have finished\");\n  }\n\n  function load_libs(css_urls, js_urls, callback) {\n    if (css_urls == null) css_urls = [];\n    if (js_urls == null) js_urls = [];\n\n    root._bokeh_onload_callbacks.push(callback);\n    if (root._bokeh_is_loading > 0) {\n      console.debug(\"Bokeh: BokehJS is being loaded, scheduling callback at\", now());\n      return null;\n    }\n    if (js_urls == null || js_urls.length === 0) {\n      run_callbacks();\n      return null;\n    }\n    console.debug(\"Bokeh: BokehJS not loaded, scheduling load and callback at\", now());\n    root._bokeh_is_loading = css_urls.length + js_urls.length;\n\n    function on_load() {\n      root._bokeh_is_loading--;\n      if (root._bokeh_is_loading === 0) {\n        console.debug(\"Bokeh: all BokehJS libraries/stylesheets loaded\");\n        run_callbacks()\n      }\n    }\n\n    function on_error(url) {\n      console.error(\"failed to load \" + url);\n    }\n\n    for (let i = 0; i < css_urls.length; i++) {\n      const url = css_urls[i];\n      const element = document.createElement(\"link\");\n      element.onload = on_load;\n      element.onerror = on_error.bind(null, url);\n      element.rel = \"stylesheet\";\n      element.type = \"text/css\";\n      element.href = url;\n      console.debug(\"Bokeh: injecting link tag for BokehJS stylesheet: \", url);\n      document.body.appendChild(element);\n    }\n\n    for (let i = 0; i < js_urls.length; i++) {\n      const url = js_urls[i];\n      const element = document.createElement('script');\n      element.onload = on_load;\n      element.onerror = on_error.bind(null, url);\n      element.async = false;\n      element.src = url;\n      console.debug(\"Bokeh: injecting script tag for BokehJS library: \", url);\n      document.head.appendChild(element);\n    }\n  };\n\n  function inject_raw_css(css) {\n    const element = document.createElement(\"style\");\n    element.appendChild(document.createTextNode(css));\n    document.body.appendChild(element);\n  }\n\n  \n  const js_urls = [\"https://cdn.bokeh.org/bokeh/release/bokeh-2.4.1.min.js\", \"https://cdn.bokeh.org/bokeh/release/bokeh-gl-2.4.1.min.js\", \"https://cdn.bokeh.org/bokeh/release/bokeh-widgets-2.4.1.min.js\", \"https://cdn.bokeh.org/bokeh/release/bokeh-tables-2.4.1.min.js\", \"https://cdn.bokeh.org/bokeh/release/bokeh-mathjax-2.4.1.min.js\"];\n  const css_urls = [];\n  \n\n  const inline_js = [\n    function(Bokeh) {\n      Bokeh.set_log_level(\"info\");\n    },\n    function(Bokeh) {\n    \n    \n    }\n  ];\n\n  function run_inline_js() {\n    \n    if (root.Bokeh !== undefined || force === true) {\n      \n    for (let i = 0; i < inline_js.length; i++) {\n      inline_js[i].call(root, root.Bokeh);\n    }\n    if (force === true) {\n        display_loaded();\n      }} else if (Date.now() < root._bokeh_timeout) {\n      setTimeout(run_inline_js, 100);\n    } else if (!root._bokeh_failed_load) {\n      console.log(\"Bokeh: BokehJS failed to load within specified timeout.\");\n      root._bokeh_failed_load = true;\n    } else if (force !== true) {\n      const cell = $(document.getElementById(\"1002\")).parents('.cell').data().cell;\n      cell.output_area.append_execute_result(NB_LOAD_WARNING)\n    }\n\n  }\n\n  if (root._bokeh_is_loading === 0) {\n    console.debug(\"Bokeh: BokehJS loaded, going straight to plotting\");\n    run_inline_js();\n  } else {\n    load_libs(css_urls, js_urls, function() {\n      console.debug(\"Bokeh: BokehJS plotting callback run at\", now());\n      run_inline_js();\n    });\n  }\n}(window));",
      "application/vnd.bokehjs_load.v0+json": ""
     },
     "metadata": {},
     "output_type": "display_data"
    }
   ],
   "source": [
    "from bokeh.plotting import figure, show, output_notebook\n",
    "output_notebook()"
   ]
  },
  {
   "cell_type": "markdown",
   "metadata": {},
   "source": [
    "Now we'll make our plot."
   ]
  },
  {
   "cell_type": "code",
   "execution_count": 5,
   "metadata": {},
   "outputs": [
    {
     "data": {
      "text/html": [
       "\n",
       "\n",
       "\n",
       "\n",
       "\n",
       "\n",
       "  <div class=\"bk-root\" id=\"6baf6201-b4af-4329-a4c6-dd3a146c7b1c\" data-root-id=\"1003\"></div>\n"
      ]
     },
     "metadata": {},
     "output_type": "display_data"
    },
    {
     "data": {
      "application/javascript": "(function(root) {\n  function embed_document(root) {\n    \n  const docs_json = {\"c11f9f6f-ef38-4818-bc38-12ba5484bff6\":{\"defs\":[],\"roots\":{\"references\":[{\"attributes\":{\"below\":[{\"id\":\"1012\"}],\"center\":[{\"id\":\"1015\"},{\"id\":\"1019\"}],\"left\":[{\"id\":\"1016\"}],\"renderers\":[{\"id\":\"1038\"}],\"title\":{\"id\":\"1040\"},\"toolbar\":{\"id\":\"1027\"},\"x_range\":{\"id\":\"1004\"},\"x_scale\":{\"id\":\"1008\"},\"y_range\":{\"id\":\"1006\"},\"y_scale\":{\"id\":\"1010\"}},\"id\":\"1003\",\"subtype\":\"Figure\",\"type\":\"Plot\"},{\"attributes\":{},\"id\":\"1010\",\"type\":\"LinearScale\"},{\"attributes\":{},\"id\":\"1025\",\"type\":\"HelpTool\"},{\"attributes\":{},\"id\":\"1046\",\"type\":\"BasicTickFormatter\"},{\"attributes\":{\"axis\":{\"id\":\"1016\"},\"coordinates\":null,\"dimension\":1,\"group\":null,\"ticker\":null},\"id\":\"1019\",\"type\":\"Grid\"},{\"attributes\":{},\"id\":\"1008\",\"type\":\"LinearScale\"},{\"attributes\":{},\"id\":\"1017\",\"type\":\"BasicTicker\"},{\"attributes\":{\"fill_color\":{\"field\":\"fill_color\"},\"line_color\":{\"value\":\"#1f77b4\"},\"size\":{\"field\":\"size\"},\"x\":{\"field\":\"x\"},\"y\":{\"field\":\"y\"}},\"id\":\"1035\",\"type\":\"Circle\"},{\"attributes\":{},\"id\":\"1021\",\"type\":\"WheelZoomTool\"},{\"attributes\":{},\"id\":\"1020\",\"type\":\"PanTool\"},{\"attributes\":{\"overlay\":{\"id\":\"1026\"}},\"id\":\"1022\",\"type\":\"BoxZoomTool\"},{\"attributes\":{},\"id\":\"1048\",\"type\":\"UnionRenderers\"},{\"attributes\":{},\"id\":\"1023\",\"type\":\"SaveTool\"},{\"attributes\":{},\"id\":\"1024\",\"type\":\"ResetTool\"},{\"attributes\":{},\"id\":\"1013\",\"type\":\"BasicTicker\"},{\"attributes\":{},\"id\":\"1049\",\"type\":\"Selection\"},{\"attributes\":{\"bottom_units\":\"screen\",\"coordinates\":null,\"fill_alpha\":0.5,\"fill_color\":\"lightgrey\",\"group\":null,\"left_units\":\"screen\",\"level\":\"overlay\",\"line_alpha\":1.0,\"line_color\":\"black\",\"line_dash\":[4,4],\"line_width\":2,\"right_units\":\"screen\",\"syncable\":false,\"top_units\":\"screen\"},\"id\":\"1026\",\"type\":\"BoxAnnotation\"},{\"attributes\":{\"coordinates\":null,\"group\":null},\"id\":\"1040\",\"type\":\"Title\"},{\"attributes\":{\"fill_alpha\":{\"value\":0.2},\"fill_color\":{\"field\":\"fill_color\"},\"hatch_alpha\":{\"value\":0.2},\"line_alpha\":{\"value\":0.2},\"line_color\":{\"value\":\"#1f77b4\"},\"size\":{\"field\":\"size\"},\"x\":{\"field\":\"x\"},\"y\":{\"field\":\"y\"}},\"id\":\"1037\",\"type\":\"Circle\"},{\"attributes\":{},\"id\":\"1044\",\"type\":\"AllLabels\"},{\"attributes\":{\"coordinates\":null,\"data_source\":{\"id\":\"1034\"},\"glyph\":{\"id\":\"1035\"},\"group\":null,\"hover_glyph\":null,\"muted_glyph\":{\"id\":\"1037\"},\"nonselection_glyph\":{\"id\":\"1036\"},\"view\":{\"id\":\"1039\"}},\"id\":\"1038\",\"type\":\"GlyphRenderer\"},{\"attributes\":{\"axis\":{\"id\":\"1012\"},\"coordinates\":null,\"group\":null,\"ticker\":null},\"id\":\"1015\",\"type\":\"Grid\"},{\"attributes\":{\"coordinates\":null,\"formatter\":{\"id\":\"1043\"},\"group\":null,\"major_label_policy\":{\"id\":\"1044\"},\"ticker\":{\"id\":\"1017\"}},\"id\":\"1016\",\"type\":\"LinearAxis\"},{\"attributes\":{\"tools\":[{\"id\":\"1020\"},{\"id\":\"1021\"},{\"id\":\"1022\"},{\"id\":\"1023\"},{\"id\":\"1024\"},{\"id\":\"1025\"}]},\"id\":\"1027\",\"type\":\"Toolbar\"},{\"attributes\":{\"data\":{\"fill_color\":[\"setosa\",\"setosa\",\"setosa\",\"setosa\",\"setosa\",\"setosa\",\"setosa\",\"setosa\",\"setosa\",\"setosa\",\"setosa\",\"setosa\",\"setosa\",\"setosa\",\"setosa\",\"setosa\",\"setosa\",\"setosa\",\"setosa\",\"setosa\",\"setosa\",\"setosa\",\"setosa\",\"setosa\",\"setosa\",\"setosa\",\"setosa\",\"setosa\",\"setosa\",\"setosa\",\"setosa\",\"setosa\",\"setosa\",\"setosa\",\"setosa\",\"setosa\",\"setosa\",\"setosa\",\"setosa\",\"setosa\",\"setosa\",\"setosa\",\"setosa\",\"setosa\",\"setosa\",\"setosa\",\"setosa\",\"setosa\",\"setosa\",\"setosa\",\"versicolor\",\"versicolor\",\"versicolor\",\"versicolor\",\"versicolor\",\"versicolor\",\"versicolor\",\"versicolor\",\"versicolor\",\"versicolor\",\"versicolor\",\"versicolor\",\"versicolor\",\"versicolor\",\"versicolor\",\"versicolor\",\"versicolor\",\"versicolor\",\"versicolor\",\"versicolor\",\"versicolor\",\"versicolor\",\"versicolor\",\"versicolor\",\"versicolor\",\"versicolor\",\"versicolor\",\"versicolor\",\"versicolor\",\"versicolor\",\"versicolor\",\"versicolor\",\"versicolor\",\"versicolor\",\"versicolor\",\"versicolor\",\"versicolor\",\"versicolor\",\"versicolor\",\"versicolor\",\"versicolor\",\"versicolor\",\"versicolor\",\"versicolor\",\"versicolor\",\"versicolor\",\"versicolor\",\"versicolor\",\"versicolor\",\"versicolor\",\"virginica\",\"virginica\",\"virginica\",\"virginica\",\"virginica\",\"virginica\",\"virginica\",\"virginica\",\"virginica\",\"virginica\",\"virginica\",\"virginica\",\"virginica\",\"virginica\",\"virginica\",\"virginica\",\"virginica\",\"virginica\",\"virginica\",\"virginica\",\"virginica\",\"virginica\",\"virginica\",\"virginica\",\"virginica\",\"virginica\",\"virginica\",\"virginica\",\"virginica\",\"virginica\",\"virginica\",\"virginica\",\"virginica\",\"virginica\",\"virginica\",\"virginica\",\"virginica\",\"virginica\",\"virginica\",\"virginica\",\"virginica\",\"virginica\",\"virginica\",\"virginica\",\"virginica\",\"virginica\",\"virginica\",\"virginica\",\"virginica\",\"virginica\"],\"size\":{\"__ndarray__\":\"ZmZmZmZmFECamZmZmZkTQM3MzMzMzBJAZmZmZmZmEkAAAAAAAAAUQJqZmZmZmRVAZmZmZmZmEkAAAAAAAAAUQJqZmZmZmRFAmpmZmZmZE0CamZmZmZkVQDMzMzMzMxNAMzMzMzMzE0AzMzMzMzMRQDMzMzMzMxdAzczMzMzMFkCamZmZmZkVQGZmZmZmZhRAzczMzMzMFkBmZmZmZmYUQJqZmZmZmRVAZmZmZmZmFEBmZmZmZmYSQGZmZmZmZhRAMzMzMzMzE0AAAAAAAAAUQAAAAAAAABRAzczMzMzMFEDNzMzMzMwUQM3MzMzMzBJAMzMzMzMzE0CamZmZmZkVQM3MzMzMzBRAAAAAAAAAFkCamZmZmZkTQAAAAAAAABRAAAAAAAAAFkCamZmZmZkTQJqZmZmZmRFAZmZmZmZmFEAAAAAAAAAUQAAAAAAAABJAmpmZmZmZEUAAAAAAAAAUQGZmZmZmZhRAMzMzMzMzE0BmZmZmZmYUQGZmZmZmZhJAMzMzMzMzFUAAAAAAAAAUQAAAAAAAABxAmpmZmZmZGUCamZmZmZkbQAAAAAAAABZAAAAAAAAAGkDNzMzMzMwWQDMzMzMzMxlAmpmZmZmZE0BmZmZmZmYaQM3MzMzMzBRAAAAAAAAAFECamZmZmZkXQAAAAAAAABhAZmZmZmZmGEBmZmZmZmYWQM3MzMzMzBpAZmZmZmZmFkAzMzMzMzMXQM3MzMzMzBhAZmZmZmZmFkCamZmZmZkXQGZmZmZmZhhAMzMzMzMzGUBmZmZmZmYYQJqZmZmZmRlAZmZmZmZmGkAzMzMzMzMbQM3MzMzMzBpAAAAAAAAAGEDNzMzMzMwWQAAAAAAAABZAAAAAAAAAFkAzMzMzMzMXQAAAAAAAABhAmpmZmZmZFUAAAAAAAAAYQM3MzMzMzBpAMzMzMzMzGUBmZmZmZmYWQAAAAAAAABZAAAAAAAAAFkBmZmZmZmYYQDMzMzMzMxdAAAAAAAAAFEBmZmZmZmYWQM3MzMzMzBZAzczMzMzMFkDNzMzMzMwYQGZmZmZmZhRAzczMzMzMFkAzMzMzMzMZQDMzMzMzMxdAZmZmZmZmHEAzMzMzMzMZQAAAAAAAABpAZmZmZmZmHkCamZmZmZkTQDMzMzMzMx1AzczMzMzMGkDNzMzMzMwcQAAAAAAAABpAmpmZmZmZGUAzMzMzMzMbQM3MzMzMzBZAMzMzMzMzF0CamZmZmZkZQAAAAAAAABpAzczMzMzMHkDNzMzMzMweQAAAAAAAABhAmpmZmZmZG0BmZmZmZmYWQM3MzMzMzB5AMzMzMzMzGUDNzMzMzMwaQM3MzMzMzBxAzczMzMzMGEBmZmZmZmYYQJqZmZmZmRlAzczMzMzMHECamZmZmZkdQJqZmZmZmR9AmpmZmZmZGUAzMzMzMzMZQGZmZmZmZhhAzczMzMzMHkAzMzMzMzMZQJqZmZmZmRlAAAAAAAAAGECamZmZmZkbQM3MzMzMzBpAmpmZmZmZG0AzMzMzMzMXQDMzMzMzMxtAzczMzMzMGkDNzMzMzMwaQDMzMzMzMxlAAAAAAAAAGkDNzMzMzMwYQJqZmZmZmRdA\",\"dtype\":\"float64\",\"order\":\"little\",\"shape\":[150]},\"x\":{\"__ndarray__\":\"AAAAAAAADEAAAAAAAAAIQJqZmZmZmQlAzczMzMzMCEDNzMzMzMwMQDMzMzMzMw9AMzMzMzMzC0AzMzMzMzMLQDMzMzMzMwdAzczMzMzMCECamZmZmZkNQDMzMzMzMwtAAAAAAAAACEAAAAAAAAAIQAAAAAAAABBAmpmZmZmZEUAzMzMzMzMPQAAAAAAAAAxAZmZmZmZmDkBmZmZmZmYOQDMzMzMzMwtAmpmZmZmZDUDNzMzMzMwMQGZmZmZmZgpAMzMzMzMzC0AAAAAAAAAIQDMzMzMzMwtAAAAAAAAADEAzMzMzMzMLQJqZmZmZmQlAzczMzMzMCEAzMzMzMzMLQGZmZmZmZhBAzczMzMzMEEDNzMzMzMwIQJqZmZmZmQlAAAAAAAAADEDNzMzMzMwIQAAAAAAAAAhAMzMzMzMzC0AAAAAAAAAMQGZmZmZmZgJAmpmZmZmZCUAAAAAAAAAMQGZmZmZmZg5AAAAAAAAACEBmZmZmZmYOQJqZmZmZmQlAmpmZmZmZDUBmZmZmZmYKQJqZmZmZmQlAmpmZmZmZCUDNzMzMzMwIQGZmZmZmZgJAZmZmZmZmBkBmZmZmZmYGQGZmZmZmZgpAMzMzMzMzA0AzMzMzMzMHQJqZmZmZmQVAAAAAAAAAAEAAAAAAAAAIQJqZmZmZmQFAMzMzMzMzB0AzMzMzMzMHQM3MzMzMzAhAAAAAAAAACECamZmZmZkFQJqZmZmZmQFAAAAAAAAABECamZmZmZkJQGZmZmZmZgZAAAAAAAAABEBmZmZmZmYGQDMzMzMzMwdAAAAAAAAACEBmZmZmZmYGQAAAAAAAAAhAMzMzMzMzB0DNzMzMzMwEQDMzMzMzMwNAMzMzMzMzA0CamZmZmZkFQJqZmZmZmQVAAAAAAAAACEAzMzMzMzMLQM3MzMzMzAhAZmZmZmZmAkAAAAAAAAAIQAAAAAAAAARAzczMzMzMBEAAAAAAAAAIQM3MzMzMzARAZmZmZmZmAkCamZmZmZkFQAAAAAAAAAhAMzMzMzMzB0AzMzMzMzMHQAAAAAAAAARAZmZmZmZmBkBmZmZmZmYKQJqZmZmZmQVAAAAAAAAACEAzMzMzMzMHQAAAAAAAAAhAAAAAAAAACEAAAAAAAAAEQDMzMzMzMwdAAAAAAAAABEDNzMzMzMwMQJqZmZmZmQlAmpmZmZmZBUAAAAAAAAAIQAAAAAAAAARAZmZmZmZmBkCamZmZmZkJQAAAAAAAAAhAZmZmZmZmDkDNzMzMzMwEQJqZmZmZmQFAmpmZmZmZCUBmZmZmZmYGQGZmZmZmZgZAmpmZmZmZBUBmZmZmZmYKQJqZmZmZmQlAZmZmZmZmBkAAAAAAAAAIQGZmZmZmZgZAAAAAAAAACEBmZmZmZmYGQGZmZmZmZg5AZmZmZmZmBkBmZmZmZmYGQM3MzMzMzARAAAAAAAAACEAzMzMzMzMLQM3MzMzMzAhAAAAAAAAACEDNzMzMzMwIQM3MzMzMzAhAzczMzMzMCECamZmZmZkFQJqZmZmZmQlAZmZmZmZmCkAAAAAAAAAIQAAAAAAAAARAAAAAAAAACEAzMzMzMzMLQAAAAAAAAAhA\",\"dtype\":\"float64\",\"order\":\"little\",\"shape\":[150]},\"y\":{\"__ndarray__\":\"ZmZmZmZmFECamZmZmZkTQM3MzMzMzBJAZmZmZmZmEkAAAAAAAAAUQJqZmZmZmRVAZmZmZmZmEkAAAAAAAAAUQJqZmZmZmRFAmpmZmZmZE0CamZmZmZkVQDMzMzMzMxNAMzMzMzMzE0AzMzMzMzMRQDMzMzMzMxdAzczMzMzMFkCamZmZmZkVQGZmZmZmZhRAzczMzMzMFkBmZmZmZmYUQJqZmZmZmRVAZmZmZmZmFEBmZmZmZmYSQGZmZmZmZhRAMzMzMzMzE0AAAAAAAAAUQAAAAAAAABRAzczMzMzMFEDNzMzMzMwUQM3MzMzMzBJAMzMzMzMzE0CamZmZmZkVQM3MzMzMzBRAAAAAAAAAFkCamZmZmZkTQAAAAAAAABRAAAAAAAAAFkCamZmZmZkTQJqZmZmZmRFAZmZmZmZmFEAAAAAAAAAUQAAAAAAAABJAmpmZmZmZEUAAAAAAAAAUQGZmZmZmZhRAMzMzMzMzE0BmZmZmZmYUQGZmZmZmZhJAMzMzMzMzFUAAAAAAAAAUQAAAAAAAABxAmpmZmZmZGUCamZmZmZkbQAAAAAAAABZAAAAAAAAAGkDNzMzMzMwWQDMzMzMzMxlAmpmZmZmZE0BmZmZmZmYaQM3MzMzMzBRAAAAAAAAAFECamZmZmZkXQAAAAAAAABhAZmZmZmZmGEBmZmZmZmYWQM3MzMzMzBpAZmZmZmZmFkAzMzMzMzMXQM3MzMzMzBhAZmZmZmZmFkCamZmZmZkXQGZmZmZmZhhAMzMzMzMzGUBmZmZmZmYYQJqZmZmZmRlAZmZmZmZmGkAzMzMzMzMbQM3MzMzMzBpAAAAAAAAAGEDNzMzMzMwWQAAAAAAAABZAAAAAAAAAFkAzMzMzMzMXQAAAAAAAABhAmpmZmZmZFUAAAAAAAAAYQM3MzMzMzBpAMzMzMzMzGUBmZmZmZmYWQAAAAAAAABZAAAAAAAAAFkBmZmZmZmYYQDMzMzMzMxdAAAAAAAAAFEBmZmZmZmYWQM3MzMzMzBZAzczMzMzMFkDNzMzMzMwYQGZmZmZmZhRAzczMzMzMFkAzMzMzMzMZQDMzMzMzMxdAZmZmZmZmHEAzMzMzMzMZQAAAAAAAABpAZmZmZmZmHkCamZmZmZkTQDMzMzMzMx1AzczMzMzMGkDNzMzMzMwcQAAAAAAAABpAmpmZmZmZGUAzMzMzMzMbQM3MzMzMzBZAMzMzMzMzF0CamZmZmZkZQAAAAAAAABpAzczMzMzMHkDNzMzMzMweQAAAAAAAABhAmpmZmZmZG0BmZmZmZmYWQM3MzMzMzB5AMzMzMzMzGUDNzMzMzMwaQM3MzMzMzBxAzczMzMzMGEBmZmZmZmYYQJqZmZmZmRlAzczMzMzMHECamZmZmZkdQJqZmZmZmR9AmpmZmZmZGUAzMzMzMzMZQGZmZmZmZhhAzczMzMzMHkAzMzMzMzMZQJqZmZmZmRlAAAAAAAAAGECamZmZmZkbQM3MzMzMzBpAmpmZmZmZG0AzMzMzMzMXQDMzMzMzMxtAzczMzMzMGkDNzMzMzMwaQDMzMzMzMxlAAAAAAAAAGkDNzMzMzMwYQJqZmZmZmRdA\",\"dtype\":\"float64\",\"order\":\"little\",\"shape\":[150]}},\"selected\":{\"id\":\"1049\"},\"selection_policy\":{\"id\":\"1048\"}},\"id\":\"1034\",\"type\":\"ColumnDataSource\"},{\"attributes\":{},\"id\":\"1004\",\"type\":\"DataRange1d\"},{\"attributes\":{\"fill_alpha\":{\"value\":0.1},\"fill_color\":{\"field\":\"fill_color\"},\"hatch_alpha\":{\"value\":0.1},\"line_alpha\":{\"value\":0.1},\"line_color\":{\"value\":\"#1f77b4\"},\"size\":{\"field\":\"size\"},\"x\":{\"field\":\"x\"},\"y\":{\"field\":\"y\"}},\"id\":\"1036\",\"type\":\"Circle\"},{\"attributes\":{},\"id\":\"1047\",\"type\":\"AllLabels\"},{\"attributes\":{\"source\":{\"id\":\"1034\"}},\"id\":\"1039\",\"type\":\"CDSView\"},{\"attributes\":{},\"id\":\"1043\",\"type\":\"BasicTickFormatter\"},{\"attributes\":{\"coordinates\":null,\"formatter\":{\"id\":\"1046\"},\"group\":null,\"major_label_policy\":{\"id\":\"1047\"},\"ticker\":{\"id\":\"1013\"}},\"id\":\"1012\",\"type\":\"LinearAxis\"},{\"attributes\":{},\"id\":\"1006\",\"type\":\"DataRange1d\"}],\"root_ids\":[\"1003\"]},\"title\":\"Bokeh Application\",\"version\":\"2.4.1\"}};\n  const render_items = [{\"docid\":\"c11f9f6f-ef38-4818-bc38-12ba5484bff6\",\"root_ids\":[\"1003\"],\"roots\":{\"1003\":\"6baf6201-b4af-4329-a4c6-dd3a146c7b1c\"}}];\n  root.Bokeh.embed.embed_items_notebook(docs_json, render_items);\n\n  }\n  if (root.Bokeh !== undefined) {\n    embed_document(root);\n  } else {\n    let attempts = 0;\n    const timer = setInterval(function(root) {\n      if (root.Bokeh !== undefined) {\n        clearInterval(timer);\n        embed_document(root);\n      } else {\n        attempts++;\n        if (attempts > 100) {\n          clearInterval(timer);\n          console.log(\"Bokeh: ERROR: Unable to run BokehJS code because BokehJS library is missing\");\n        }\n      }\n    }, 10, root)\n  }\n})(window);",
      "application/vnd.bokehjs_exec.v0+json": ""
     },
     "metadata": {
      "application/vnd.bokehjs_exec.v0+json": {
       "id": "1003"
      }
     },
     "output_type": "display_data"
    }
   ],
   "source": [
    "p = figure()\n",
    "p.circle(data[\"sepal_width\"], data[\"sepal_length\"], fill_color=data[\"species\"], size=data[\"sepal_length\"])\n",
    "show(p)"
   ]
  },
  {
   "cell_type": "markdown",
   "metadata": {},
   "source": [
    "## ipywidgets\n",
    "\n",
    "You may also run code for Jupyter Widgets in your document, and the interactive HTML\n",
    "outputs will embed themselves in your side. See [the ipywidgets documentation](https://ipywidgets.readthedocs.io/en/latest/user_install.html)\n",
    "for how to get set up in your own environment.\n",
    "\n",
    "```{admonition} Widgets often need a kernel\n",
    "Note that `ipywidgets` tend to behave differently from other interactive visualization libraries. They\n",
    "interact both with Javascript, and with Python. Some functionality in `ipywidgets` may not\n",
    "work in default Jupyter Book pages (because no Python kernel is running). You may be able to\n",
    "get around this with [tools for remote kernels, like thebe](https://thebelab.readthedocs.org).\n",
    "```\n",
    "\n",
    "Here are some simple widget elements rendered below."
   ]
  },
  {
   "cell_type": "code",
   "execution_count": 6,
   "metadata": {},
   "outputs": [
    {
     "data": {
      "application/vnd.jupyter.widget-view+json": {
       "model_id": "db6a6f55773f45d9a0ceea5e69f32cea",
       "version_major": 2,
       "version_minor": 0
      },
      "text/plain": [
       "IntSlider(value=7, continuous_update=False, description='Test:', max=10)"
      ]
     },
     "metadata": {},
     "output_type": "display_data"
    }
   ],
   "source": [
    "import ipywidgets as widgets\n",
    "widgets.IntSlider(\n",
    "    value=7,\n",
    "    min=0,\n",
    "    max=10,\n",
    "    step=1,\n",
    "    description='Test:',\n",
    "    disabled=False,\n",
    "    continuous_update=False,\n",
    "    orientation='horizontal',\n",
    "    readout=True,\n",
    "    readout_format='d'\n",
    ")"
   ]
  },
  {
   "cell_type": "code",
   "execution_count": 7,
   "metadata": {},
   "outputs": [
    {
     "data": {
      "application/vnd.jupyter.widget-view+json": {
       "model_id": "14d48e235f384eb6beefaf80b23132e5",
       "version_major": 2,
       "version_minor": 0
      },
      "text/plain": [
       "Tab(children=(Text(value='', description='P0'), Text(value='', description='P1'), Text(value='', description='…"
      ]
     },
     "metadata": {},
     "output_type": "display_data"
    }
   ],
   "source": [
    "tab_contents = ['P0', 'P1', 'P2', 'P3', 'P4']\n",
    "children = [widgets.Text(description=name) for name in tab_contents]\n",
    "tab = widgets.Tab()\n",
    "tab.children = children\n",
    "for ii in range(len(children)):\n",
    "    tab.set_title(ii, f\"tab_{ii}\")\n",
    "tab"
   ]
  },
  {
   "cell_type": "markdown",
   "metadata": {},
   "source": [
    "You can find [a list of existing Jupyter Widgets](https://ipywidgets.readthedocs.io/en/latest/examples/Widget%20List.html)\n",
    "in the jupyter-widgets documentation."
   ]
  }
 ],
 "metadata": {
  "interpreter": {
   "hash": "49bbc739f0999e8e5b8233bb828d346df9e2669cfda3104ae15b1537f7948bce"
  },
  "kernelspec": {
   "display_name": "Python 3 (ipykernel)",
   "language": "python",
   "name": "python3"
  },
  "language_info": {
   "codemirror_mode": {
    "name": "ipython",
    "version": 3
   },
   "file_extension": ".py",
   "mimetype": "text/x-python",
   "name": "python",
   "nbconvert_exporter": "python",
   "pygments_lexer": "ipython3",
   "version": "3.9.7"
  }
 },
 "nbformat": 4,
 "nbformat_minor": 4
}
