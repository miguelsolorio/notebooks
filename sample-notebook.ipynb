{
 "cells": [
  {
   "cell_type": "markdown",
   "metadata": {},
   "source": [
    "# Increase in mean Fortune 500 companies"
   ]
  },
  {
   "cell_type": "markdown",
   "metadata": {},
   "source": [
    "## 1. Import and verify data"
   ]
  },
  {
   "cell_type": "code",
   "execution_count": 1,
   "metadata": {
    "vscode": {
     "end_execution_time": "2020-08-04T20:51:17.069Z",
     "start_execution_time": "2020-08-04T20:51:14.941Z"
    }
   },
   "outputs": [],
   "source": [
    "import pandas as pd\n",
    "import numpy as np\n",
    "import seaborn as sns\n",
    "import sklearn as sk\n",
    "import matplotlib.pyplot as plt\n",
    "import category_encoders as ce\n",
    "from sklearn import metrics\n",
    "from sklearn.model_selection import train_test_split\n",
    "from sklearn.linear_model import LinearRegression\n",
    "\n",
    "sns.set(style='darkgrid')"
   ]
  },
  {
   "cell_type": "code",
   "execution_count": 3,
   "metadata": {
    "vscode": {
     "end_execution_time": "2020-08-04T20:51:17.098Z",
     "start_execution_time": "2020-08-04T20:51:17.070Z"
    }
   },
   "outputs": [
    {
     "data": {
      "text/html": "<div>\n<style scoped>\n    .dataframe tbody tr th:only-of-type {\n        vertical-align: middle;\n    }\n\n    .dataframe tbody tr th {\n        vertical-align: top;\n    }\n\n    .dataframe thead th {\n        text-align: right;\n    }\n</style>\n<table border=\"1\" class=\"dataframe\">\n  <thead>\n    <tr style=\"text-align: right;\">\n      <th></th>\n      <th>Year</th>\n      <th>Rank</th>\n      <th>Company</th>\n      <th>Revenue (in millions)</th>\n      <th>Profit (in millions)</th>\n    </tr>\n  </thead>\n  <tbody>\n    <tr>\n      <th>0</th>\n      <td>1955</td>\n      <td>1</td>\n      <td>General Motors</td>\n      <td>9823.5</td>\n      <td>806</td>\n    </tr>\n    <tr>\n      <th>1</th>\n      <td>1955</td>\n      <td>2</td>\n      <td>Exxon Mobil</td>\n      <td>5661.4</td>\n      <td>584.8</td>\n    </tr>\n    <tr>\n      <th>2</th>\n      <td>1955</td>\n      <td>3</td>\n      <td>U.S. Steel</td>\n      <td>3250.4</td>\n      <td>195.4</td>\n    </tr>\n    <tr>\n      <th>3</th>\n      <td>1955</td>\n      <td>4</td>\n      <td>General Electric</td>\n      <td>2959.1</td>\n      <td>212.6</td>\n    </tr>\n    <tr>\n      <th>4</th>\n      <td>1955</td>\n      <td>5</td>\n      <td>Esmark</td>\n      <td>2510.8</td>\n      <td>19.1</td>\n    </tr>\n    <tr>\n      <th>...</th>\n      <td>...</td>\n      <td>...</td>\n      <td>...</td>\n      <td>...</td>\n      <td>...</td>\n    </tr>\n    <tr>\n      <th>25495</th>\n      <td>2005</td>\n      <td>496</td>\n      <td>Wm. Wrigley Jr.</td>\n      <td>3648.6</td>\n      <td>493</td>\n    </tr>\n    <tr>\n      <th>25496</th>\n      <td>2005</td>\n      <td>497</td>\n      <td>Peabody Energy</td>\n      <td>3631.6</td>\n      <td>175.4</td>\n    </tr>\n    <tr>\n      <th>25497</th>\n      <td>2005</td>\n      <td>498</td>\n      <td>Wendy's International</td>\n      <td>3630.4</td>\n      <td>57.8</td>\n    </tr>\n    <tr>\n      <th>25498</th>\n      <td>2005</td>\n      <td>499</td>\n      <td>Kindred Healthcare</td>\n      <td>3616.6</td>\n      <td>70.6</td>\n    </tr>\n    <tr>\n      <th>25499</th>\n      <td>2005</td>\n      <td>500</td>\n      <td>Cincinnati Financial</td>\n      <td>3614.0</td>\n      <td>584</td>\n    </tr>\n  </tbody>\n</table>\n<p>25500 rows × 5 columns</p>\n</div>",
      "text/plain": "       Year  Rank                Company  Revenue (in millions)  \\\n0      1955     1         General Motors                 9823.5   \n1      1955     2            Exxon Mobil                 5661.4   \n2      1955     3             U.S. Steel                 3250.4   \n3      1955     4       General Electric                 2959.1   \n4      1955     5                 Esmark                 2510.8   \n...     ...   ...                    ...                    ...   \n25495  2005   496        Wm. Wrigley Jr.                 3648.6   \n25496  2005   497         Peabody Energy                 3631.6   \n25497  2005   498  Wendy's International                 3630.4   \n25498  2005   499     Kindred Healthcare                 3616.6   \n25499  2005   500   Cincinnati Financial                 3614.0   \n\n      Profit (in millions)  \n0                      806  \n1                    584.8  \n2                    195.4  \n3                    212.6  \n4                     19.1  \n...                    ...  \n25495                  493  \n25496                175.4  \n25497                 57.8  \n25498                 70.6  \n25499                  584  \n\n[25500 rows x 5 columns]"
     },
     "execution_count": 3,
     "metadata": {},
     "output_type": "execute_result"
    }
   ],
   "source": [
    "df = pd.read_csv('/Users/misolori/Projects/notebooks/interactive/NotebookExamples/python/fortune500.csv')\n",
    "df"
   ]
  },
  {
   "cell_type": "markdown",
   "metadata": {},
   "source": [
    "Let's see the first entries:"
   ]
  },
  {
   "cell_type": "code",
   "execution_count": null,
   "metadata": {
    "vscode": {
     "end_execution_time": "2020-08-04T20:51:17.116Z",
     "start_execution_time": "2020-08-04T20:51:17.099Z"
    }
   },
   "outputs": [],
   "source": [
    "df.head()"
   ]
  },
  {
   "cell_type": "markdown",
   "metadata": {},
   "source": [
    "And the last few entires:"
   ]
  },
  {
   "cell_type": "code",
   "execution_count": null,
   "metadata": {
    "vscode": {
     "end_execution_time": "2020-08-04T20:51:17.151Z",
     "start_execution_time": "2020-08-04T20:51:17.117Z"
    }
   },
   "outputs": [],
   "source": [
    "df.tail()"
   ]
  },
  {
   "cell_type": "code",
   "execution_count": null,
   "metadata": {
    "vscode": {
     "end_execution_time": "2020-08-04T20:51:17.169Z",
     "start_execution_time": "2020-08-04T20:51:17.153Z"
    }
   },
   "outputs": [],
   "source": [
    "df.columns = ['year', 'rank', 'company', 'revenue', 'profit']"
   ]
  },
  {
   "cell_type": "code",
   "execution_count": null,
   "metadata": {
    "vscode": {
     "end_execution_time": "2020-08-04T20:51:17.178Z",
     "start_execution_time": "2020-08-04T20:51:17.170Z"
    }
   },
   "outputs": [],
   "source": [
    "len(df)"
   ]
  },
  {
   "cell_type": "code",
   "execution_count": null,
   "metadata": {
    "vscode": {
     "end_execution_time": "2020-08-04T20:51:17.191Z",
     "start_execution_time": "2020-08-04T20:51:17.179Z"
    }
   },
   "outputs": [],
   "source": [
    "df.dtypes"
   ]
  },
  {
   "cell_type": "code",
   "execution_count": null,
   "metadata": {
    "vscode": {
     "end_execution_time": "2020-08-04T20:51:17.227Z",
     "start_execution_time": "2020-08-04T20:51:17.192Z"
    }
   },
   "outputs": [],
   "source": [
    "non_nymberic_profits = df.profit.str.contains('[^0-9.-]')\n",
    "df.loc[non_nymberic_profits].head()"
   ]
  },
  {
   "cell_type": "code",
   "execution_count": null,
   "metadata": {
    "vscode": {
     "end_execution_time": "2020-08-04T20:51:17.242Z",
     "start_execution_time": "2020-08-04T20:51:17.228Z"
    }
   },
   "outputs": [],
   "source": [
    "df.loc[non_nymberic_profits].head()"
   ]
  },
  {
   "cell_type": "code",
   "execution_count": null,
   "metadata": {
    "vscode": {
     "end_execution_time": "2020-08-04T20:51:17.263Z",
     "start_execution_time": "2020-08-04T20:51:17.243Z"
    }
   },
   "outputs": [],
   "source": [
    "set(df.profit[non_nymberic_profits])\n"
   ]
  },
  {
   "cell_type": "code",
   "execution_count": null,
   "metadata": {
    "vscode": {
     "end_execution_time": "2020-08-04T20:51:17.276Z",
     "start_execution_time": "2020-08-04T20:51:17.265Z"
    }
   },
   "outputs": [],
   "source": [
    "len(df.profit[non_nymberic_profits])"
   ]
  },
  {
   "cell_type": "code",
   "execution_count": null,
   "metadata": {
    "vscode": {
     "end_execution_time": "2020-08-04T20:51:17.754Z",
     "start_execution_time": "2020-08-04T20:51:17.277Z"
    }
   },
   "outputs": [],
   "source": [
    "bin_sizes, _, _ = plt.hist(df.year[non_nymberic_profits], bins=range(1955, 2006))\n"
   ]
  },
  {
   "cell_type": "code",
   "execution_count": null,
   "metadata": {
    "vscode": {
     "end_execution_time": "2020-08-04T20:51:18.348Z",
     "start_execution_time": "2020-08-04T20:51:17.755Z"
    }
   },
   "outputs": [],
   "source": [
    "df = df.loc[~non_nymberic_profits]\n",
    "df.profit = df.profit.apply(pd.to_numeric)"
   ]
  },
  {
   "cell_type": "code",
   "execution_count": null,
   "metadata": {
    "vscode": {
     "end_execution_time": "2020-08-04T20:51:18.357Z",
     "start_execution_time": "2020-08-04T20:51:18.349Z"
    }
   },
   "outputs": [],
   "source": [
    "df.dtypes"
   ]
  },
  {
   "cell_type": "code",
   "execution_count": null,
   "metadata": {
    "vscode": {
     "end_execution_time": "2020-08-04T20:51:18.372Z",
     "start_execution_time": "2020-08-04T20:51:18.359Z"
    }
   },
   "outputs": [],
   "source": [
    "group_by_year = df.loc[:, ['year', 'revenue', 'profit']].groupby('year')\n",
    "avgs = group_by_year.mean()\n",
    "x = avgs.index\n",
    "y1 = avgs.profit\n",
    "\n",
    "def plot(x, y, ax, title, y_label):\n",
    "    ax.set_title(title)\n",
    "    ax.set_ylabel(y_label)\n",
    "    ax.plot(x, y)\n",
    "    ax.margins(x=0, y=0)"
   ]
  },
  {
   "cell_type": "markdown",
   "metadata": {},
   "source": [
    "# Revenue"
   ]
  },
  {
   "cell_type": "code",
   "execution_count": null,
   "metadata": {
    "vscode": {
     "end_execution_time": "2020-08-04T20:51:18.859Z",
     "start_execution_time": "2020-08-04T20:51:18.373Z"
    }
   },
   "outputs": [],
   "source": [
    "y2 = avgs.revenue\n",
    "fig, ax = plt.subplots()\n",
    "plot(x, y2, ax, 'Fortune 500 revenues', 'Revenue (millions)')"
   ]
  },
  {
   "cell_type": "code",
   "execution_count": null,
   "metadata": {
    "vscode": {
     "end_execution_time": "2020-08-04T20:51:19.993Z",
     "start_execution_time": "2020-08-04T20:51:18.861Z"
    }
   },
   "outputs": [],
   "source": [
    "def plot_with_std(x, y, stds, ax, title, y_label):\n",
    "    ax.fill_between(x, y - stds, y + stds, alpha=0.2)\n",
    "    plot(x, y, ax, title, y_label)\n",
    "\n",
    "\n",
    "fig, (ax1, ax2) = plt.subplots(ncols=2)\n",
    "\n",
    "title = \"Fortune 500 profits\"\n",
    "stds1 = group_by_year.std().profit.values\n",
    "stds2 = group_by_year.std().revenue.values\n",
    "\n",
    "plot_with_std(x, y1.values, stds1, ax1, 'profits', 'Profits (millions)')\n",
    "plot_with_std(x, y2.values, stds2, ax2, 'revenues', 'Revenue (millions)')\n",
    "\n",
    "fig.set_size_inches(10, 4)\n",
    "fig.tight_layout()"
   ]
  },
  {
   "cell_type": "markdown",
   "metadata": {},
   "source": [
    "# Revenue + Profit"
   ]
  },
  {
   "cell_type": "code",
   "execution_count": null,
   "metadata": {
    "vscode": {
     "end_execution_time": "2020-08-04T20:51:20.493Z",
     "start_execution_time": "2020-08-04T20:51:19.994Z"
    }
   },
   "outputs": [],
   "source": [
    "fig, ax = plt.subplots()\n",
    "plot(x, y1, ax, 'Fortune 500 profits', 'Profits (millions)')"
   ]
  },
  {
   "cell_type": "markdown",
   "metadata": {},
   "source": [
    "## Profits"
   ]
  }
 ],
 "metadata": {
  "interpreter": {
   "hash": "0f3fc1f477b7b6e8a98505e87c3377c352684999b9cf604b9f6bec26ac37c02d"
  },
  "kernelspec": {
   "display_name": "Python 3.8.3 64-bit ('.venv': venv)",
   "name": "python3"
  },
  "language_info": {
   "codemirror_mode": {
    "name": "ipython",
    "version": 3
   },
   "file_extension": ".py",
   "mimetype": "text/x-python",
   "name": "python",
   "nbconvert_exporter": "python",
   "pygments_lexer": "ipython3",
   "version": "3.8.3"
  }
 },
 "nbformat": 4,
 "nbformat_minor": 4
}