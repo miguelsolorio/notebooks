{
 "cells": [
  {
   "cell_type": "markdown",
   "metadata": {},
   "source": [
    "## Heading"
   ]
  },
  {
   "cell_type": "code",
   "execution_count": null,
   "metadata": {},
   "outputs": [],
   "source": [
    "!pip install gpxpy\n",
    "!pip install folium\n",
    "!pip install pandas"
   ]
  },
  {
   "cell_type": "code",
   "execution_count": null,
   "metadata": {},
   "outputs": [],
   "source": [
    "import gpxpy\n",
    "import pandas as pd\n",
    "def process_gpx_to_df(file_name):\n",
    "    gpx = gpxpy.parse(open(file_name))\n",
    "\n",
    "    # (1)make DataFrame\n",
    "    track = gpx.tracks[0]\n",
    "    segment = track.segments[0]\n",
    "    # Load the data into a Pandas dataframe (by way of a list)\n",
    "    data = []\n",
    "    segment_length = segment.length_3d()\n",
    "    for point_idx, point in enumerate(segment.points):\n",
    "        data.append([point.longitude, point.latitude, point.elevation,\n",
    "                    point.time, segment.get_speed(point_idx)])\n",
    "        columns = ['Longitude', 'Latitude', 'Altitude', 'Time', 'Speed']\n",
    "        gpx_df = pd.DataFrame(data, columns=columns)\n",
    "\n",
    "        # 2(make points tuple for line)\n",
    "        points = []\n",
    "        for track in gpx.tracks:\n",
    "            for segment in track.segments:\n",
    "                for point in segment.points:\n",
    "                    points.append(tuple([point.latitude, point.longitude]))\n",
    "\n",
    "        return gpx_df, points\n"
   ]
  },
  {
   "cell_type": "code",
   "execution_count": null,
   "metadata": {},
   "outputs": [],
   "source": [
    "import folium\n",
    "\n",
    "mymap = folium.Map( location=[ df.Latitude.mean(), df.Longitude.mean() ], zoom_start=6, tiles=None)\n",
    "folium.TileLayer('openstreetmap', name='OpenStreet Map').add_to(mymap)\n",
    "# folium.TileLayer('https://server.arcgisonline.com/ArcGIS/rest/services/NatGeo_World_Map/MapServer/tile/{z}/{y}/{x}', attr=\"Tiles &copy; Esri &mdash; National Geographic, Esri, DeLorme, NAVTEQ, UNEP-WCMC, USGS, NASA, ESA, METI, NRCAN, GEBCO, NOAA, iPC\", name='Nat Geo Map').add_to(mymap)\n",
    "folium.TileLayer('http://tile.stamen.com/terrain/{z}/{x}/{y}.jpg', attr=\"terrain-bcg\", name='Terrain Map').add_to(mymap)"
   ]
  },
  {
   "cell_type": "code",
   "execution_count": null,
   "metadata": {},
   "outputs": [],
   "source": [
    "import os\n",
    "\n",
    "for filename in os.listdir('./'):\n",
    "    if filename.endswith('.gpx'):\n",
    "        df, points = process_gpx_to_df('./' + filename)\n",
    "        folium.PolyLine(points, color='red', weight=4.5, opacity=.5).add_to(mymap)\n"
   ]
  },
  {
   "cell_type": "code",
   "execution_count": null,
   "metadata": {},
   "outputs": [],
   "source": [
    "mymap"
   ]
  }
 ],
 "metadata": {
  "kernelspec": {
   "display_name": "Python 3.8.3  ('.venv': venv)",
   "name": "pythonjvsc74a57bd00f3fc1f477b7b6e8a98505e87c3377c352684999b9cf604b9f6bec26ac37c02d"
  },
  "language_info": {
   "name": "python",
   "version": ""
  },
  "metadata": {
   "interpreter": {
    "hash": "0f3fc1f477b7b6e8a98505e87c3377c352684999b9cf604b9f6bec26ac37c02d"
   }
  },
  "orig_nbformat": 2
 },
 "nbformat": 4,
 "nbformat_minor": 2
}