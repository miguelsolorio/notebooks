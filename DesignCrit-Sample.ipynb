{
 "cells": [
  {
   "cell_type": "markdown",
   "metadata": {},
   "source": [
    "# Equation of ring cyclide"
   ]
  },
  {
   "cell_type": "code",
   "execution_count": null,
   "metadata": {},
   "outputs": [],
   "source": [
    "import plotly.graph_objects as go\n",
    "from plotly.subplots import make_subplots\n",
    "import numpy as np\n",
    "\n",
    "a, b, d = 1.32, 1., 0.8\n",
    "c = a**2 - b**2\n",
    "u, v = np.mgrid[0:2*np.pi:100j, 0:2*np.pi:100j]\n",
    "x = (d * (c - a * np.cos(u) * np.cos(v)) + b**2 *\n",
    "     np.cos(u)) / (a - c * np.cos(u) * np.cos(v))\n",
    "y = b * np.sin(u) * (a - d*np.cos(v)) / (a - c * np.cos(u) * np.cos(v))\n",
    "z = b * np.sin(v) * (c*np.cos(u) - d) / (a - c * np.cos(u) * np.cos(v))\n",
    "\n",
    "fig = make_subplots(rows=1, cols=2,\n",
    "                    specs=[[{'is_3d': True}, {'is_3d': True}]],\n",
    "                    subplot_titles=['Color corresponds to z',\n",
    "                                    'Color corresponds to distance to origin'],\n",
    "                    )\n",
    "\n",
    "fig.add_trace(go.Surface(x=x, y=y, z=z, colorbar_x=-0.07), 1, 1)\n",
    "fig.add_trace(go.Surface(x=x, y=y, z=z, surfacecolor=x**2 + y**2 + z**2), 1, 2)\n",
    "fig.update_layout(title_text=\"Ring cyclide\")\n",
    "fig.show()"
   ]
  },
  {
   "cell_type": "markdown",
   "metadata": {},
   "source": [
    "# A simple plot with Matplotlib"
   ]
  },
  {
   "cell_type": "code",
   "execution_count": null,
   "metadata": {},
   "outputs": [],
   "source": [
    "import numpy as np\r\n",
    "import pandas as pd\r\n",
    "import matplotlib.pyplot as plt\r\n",
    "p = np.linspace(0,20,100)\r\n",
    "plt.plot(p,np.sin(15*p))\r\n",
    "plt.show()"
   ]
  },
  {
   "cell_type": "markdown",
   "metadata": {},
   "source": [
    "# A simple hello world"
   ]
  },
  {
   "cell_type": "code",
   "execution_count": null,
   "metadata": {},
   "outputs": [],
   "source": [
    "print('Hello World')"
   ]
  }
 ],
 "metadata": {
  "interpreter": {
   "hash": "0f3fc1f477b7b6e8a98505e87c3377c352684999b9cf604b9f6bec26ac37c02d"
  },
  "kernelspec": {
   "display_name": "Python 3.8.3  ('.venv': venv)",
   "name": "python3"
  },
  "language_info": {
   "codemirror_mode": {
    "name": "ipython",
    "version": 3
   },
   "file_extension": ".py",
   "mimetype": "text/x-python",
   "name": "python",
   "nbconvert_exporter": "python",
   "pygments_lexer": "ipython3",
   "version": "3.8.3"
  },
  "metadata": {
   "interpreter": {
    "hash": "0f3fc1f477b7b6e8a98505e87c3377c352684999b9cf604b9f6bec26ac37c02d"
   }
  }
 },
 "nbformat": 4,
 "nbformat_minor": 4
}