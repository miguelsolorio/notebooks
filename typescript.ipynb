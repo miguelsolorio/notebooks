{
 "cells": [
  {
   "cell_type": "markdown",
   "metadata": {},
   "source": [
    "# TypeScript + Notebooks"
   ]
  },
  {
   "cell_type": "markdown",
   "metadata": {},
   "source": [
    "## Static Type Checker"
   ]
  },
  {
   "cell_type": "code",
   "execution_count": 1,
   "metadata": {},
   "outputs": [],
   "source": [
    "const obj = { width: 10, height: 15 };\n",
    "// const area = obj.width * obj.heigth;\n",
    "const area = obj.width * obj.height;"
   ]
  },
  {
   "cell_type": "markdown",
   "metadata": {},
   "source": [
    "## Using Classes Types in Generics"
   ]
  },
  {
   "cell_type": "code",
   "execution_count": 2,
   "metadata": {},
   "outputs": [
    {
     "name": "stderr",
     "output_type": "stream",
     "text": [
      "evalmachine.<anonymous>:23\n",
      "createInstance(Lion).keeper.nametag;\n",
      "                           ^\n",
      "\n",
      "TypeError: Cannot read property 'nametag' of undefined\n",
      "    at evalmachine.<anonymous>:23:28\n",
      "    at evalmachine.<anonymous>:26:3\n",
      "    at sigintHandlersWrap (vm.js:288:15)\n",
      "    at Script.runInThisContext (vm.js:120:14)\n",
      "    at Object.runInThisContext (vm.js:329:38)\n",
      "    at Object.execute (/Users/misolori/.nvm/versions/node/v10.19.0/lib/node_modules/tslab/dist/executor.js:162:38)\n",
      "    at JupyterHandlerImpl.handleExecuteImpl (/Users/misolori/.nvm/versions/node/v10.19.0/lib/node_modules/tslab/dist/jupyter.js:219:38)\n",
      "    at count.execQueue.add (/Users/misolori/.nvm/versions/node/v10.19.0/lib/node_modules/tslab/dist/jupyter.js:177:57)\n"
     ]
    }
   ],
   "source": [
    "// @strict: false\n",
    "class BeeKeeper {\n",
    "    hasMask: boolean;\n",
    "}\n",
    "\n",
    "class ZooKeeper {\n",
    "    nametag: string;\n",
    "}\n",
    "\n",
    "class Animal {\n",
    "    numLegs: number;\n",
    "}\n",
    "\n",
    "class Bee extends Animal {\n",
    "    keeper: BeeKeeper;\n",
    "}\n",
    "\n",
    "class Lion extends Animal {\n",
    "    keeper: ZooKeeper;\n",
    "}\n",
    "\n",
    "function createInstance<A extends Animal>(c: new () => A): A {\n",
    "    return new c();\n",
    "}\n",
    "\n",
    "createInstance(Lion).keeper.nametag;\n",
    "createInstance(Bee).keeper.hasMask;"
   ]
  },
  {
   "cell_type": "markdown",
   "metadata": {},
   "source": [
    "## Syntax"
   ]
  },
  {
   "cell_type": "code",
   "execution_count": null,
   "metadata": {},
   "outputs": [],
   "source": [
    "let a = (4"
   ]
  },
  {
   "cell_type": "markdown",
   "metadata": {},
   "source": [
    "## Types by Inference"
   ]
  },
  {
   "cell_type": "code",
   "execution_count": null,
   "metadata": {},
   "outputs": [],
   "source": [
    "let helloWorld:string = \"Hello World\";"
   ]
  },
  {
   "cell_type": "markdown",
   "metadata": {},
   "source": [
    "## Defining Types"
   ]
  },
  {
   "cell_type": "code",
   "execution_count": null,
   "metadata": {},
   "outputs": [],
   "source": [
    "interface User {\n",
    "    name: string;\n",
    "    id: number;\n",
    "}"
   ]
  },
  {
   "cell_type": "code",
   "execution_count": null,
   "metadata": {},
   "outputs": [],
   "source": [
    "const user: User = {\n",
    "  username: \"Hayes\",\n",
    "  id: 0,\n",
    "}"
   ]
  },
  {
   "cell_type": "code",
   "execution_count": null,
   "metadata": {},
   "outputs": [],
   "source": [
    "class UserAccount {\n",
    "    name: string;\n",
    "    id: number;\n",
    "\n",
    "    constructor(name: string, id: number) {\n",
    "        this.name = name;\n",
    "        this.id = id;\n",
    "    }\n",
    "}"
   ]
  },
  {
   "cell_type": "code",
   "execution_count": null,
   "metadata": {},
   "outputs": [],
   "source": [
    "const user: User = new UserAccount('Miguel', 1)"
   ]
  },
  {
   "cell_type": "markdown",
   "metadata": {},
   "source": [
    "# Composing Types"
   ]
  },
  {
   "cell_type": "code",
   "execution_count": null,
   "metadata": {},
   "outputs": [],
   "source": [
    "function getLength(obj: string | string[]) {\n",
    "    return obj.length\n",
    "}"
   ]
  },
  {
   "cell_type": "code",
   "execution_count": null,
   "metadata": {},
   "outputs": [],
   "source": [
    "function wrapInArray(obj: string | string[]){\n",
    "    if(typeof obj === \"string\")\n",
    "        return obj\n",
    "    else\n",
    "        return obj\n",
    "}"
   ]
  },
  {
   "cell_type": "code",
   "execution_count": null,
   "metadata": {},
   "outputs": [],
   "source": [
    "wrapInArray([\"one\",\"two\",\"three\"])"
   ]
  }
 ],
 "metadata": {
  "kernelspec": {
   "display_name": "TypeScript",
   "language": "typescript",
   "name": "typescript"
  },
  "language_info": {
   "codemirror_mode": {
    "mode": "typescript",
    "name": "javascript",
    "typescript": true
   },
   "file_extension": ".ts",
   "mimetype": "text/typescript",
   "name": "typescript",
   "version": "3.7.2"
  },
  "orig_nbformat": 2
 },
 "nbformat": 4,
 "nbformat_minor": 2
}