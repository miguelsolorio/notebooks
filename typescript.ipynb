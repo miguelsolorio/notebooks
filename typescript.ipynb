{
 "cells": [
  {
   "cell_type": "markdown",
   "metadata": {},
   "source": [
    "# TypeScript + Notebooks"
   ]
  },
  {
   "cell_type": "markdown",
   "metadata": {},
   "source": [
    "## Static Type Checker"
   ]
  },
  {
   "cell_type": "code",
   "execution_count": 4,
   "metadata": {},
   "outputs": [],
   "source": [
    "const obj = { width: 10, height: 15 };\n",
    "// const area = obj.width * obj.heigth;\n",
    "const area = obj.width * obj.height;"
   ]
  },
  {
   "cell_type": "markdown",
   "metadata": {},
   "source": [
    "## Using Classes Types in Generics"
   ]
  },
  {
   "cell_type": "code",
   "execution_count": null,
   "metadata": {},
   "outputs": [],
   "source": [
    "// @strict: false\n",
    "class BeeKeeper {\n",
    "    hasMask: boolean;\n",
    "}\n",
    "\n",
    "class ZooKeeper {\n",
    "    nametag: string;\n",
    "}\n",
    "\n",
    "class Animal {\n",
    "    numLegs: number;\n",
    "}\n",
    "\n",
    "class Bee extends Animal {\n",
    "    keeper: BeeKeeper;\n",
    "}\n",
    "\n",
    "class Lion extends Animal {\n",
    "    keeper: ZooKeeper;\n",
    "}\n",
    "\n",
    "function createInstance<A extends Animal>(c: new () => A): A {\n",
    "    return new c();\n",
    "}\n",
    "\n",
    "createInstance(Lion).keeper.nametag;\n",
    "createInstance(Bee).keeper.hasMask;"
   ]
  },
  {
   "cell_type": "markdown",
   "metadata": {},
   "source": [
    "## Syntax"
   ]
  },
  {
   "cell_type": "code",
   "execution_count": 5,
   "metadata": {},
   "outputs": [
    {
     "name": "stderr",
     "output_type": "stream",
     "text": [
      "2:1 - ')' expected.\n"
     ]
    }
   ],
   "source": [
    "let a = (4"
   ]
  },
  {
   "cell_type": "markdown",
   "metadata": {},
   "source": [
    "## Types by Inference"
   ]
  },
  {
   "cell_type": "code",
   "execution_count": null,
   "metadata": {},
   "outputs": [],
   "source": [
    "let helloWorld:string = \"Hello World\";"
   ]
  },
  {
   "cell_type": "markdown",
   "metadata": {},
   "source": [
    "## Defining Types"
   ]
  },
  {
   "cell_type": "code",
   "execution_count": null,
   "metadata": {},
   "outputs": [],
   "source": [
    "interface User {\n",
    "    name: string;\n",
    "    id: number;\n",
    "}"
   ]
  },
  {
   "cell_type": "code",
   "execution_count": null,
   "metadata": {},
   "outputs": [],
   "source": [
    "const user: User = {\n",
    "  username: \"Hayes\",\n",
    "  id: 0,\n",
    "}"
   ]
  },
  {
   "cell_type": "code",
   "execution_count": null,
   "metadata": {},
   "outputs": [],
   "source": [
    "class UserAccount {\n",
    "    name: string;\n",
    "    id: number;\n",
    "\n",
    "    constructor(name: string, id: number) {\n",
    "        this.name = name;\n",
    "        this.id = id;\n",
    "    }\n",
    "}"
   ]
  },
  {
   "cell_type": "code",
   "execution_count": null,
   "metadata": {},
   "outputs": [],
   "source": [
    "const user: User = new UserAccount('Miguel', 1)"
   ]
  },
  {
   "cell_type": "markdown",
   "metadata": {},
   "source": [
    "# Composing Types"
   ]
  },
  {
   "cell_type": "code",
   "execution_count": null,
   "metadata": {},
   "outputs": [],
   "source": [
    "function getLength(obj: string | string[]) {\n",
    "    return obj.length\n",
    "}"
   ]
  },
  {
   "cell_type": "code",
   "execution_count": null,
   "metadata": {},
   "outputs": [],
   "source": [
    "function wrapInArray(obj: string | string[]){\n",
    "    if(typeof obj === \"string\")\n",
    "        return obj\n",
    "    else\n",
    "        return obj\n",
    "}"
   ]
  },
  {
   "cell_type": "code",
   "execution_count": null,
   "metadata": {},
   "outputs": [],
   "source": [
    "wrapInArray([\"one\",\"two\",\"three\"])"
   ]
  }
 ],
 "metadata": {
  "kernelspec": {
   "display_name": "TypeScript",
   "language": "typescript",
   "name": "typescript"
  },
  "language_info": {
   "codemirror_mode": {
    "mode": "typescript",
    "name": "javascript",
    "typescript": true
   },
   "file_extension": ".ts",
   "mimetype": "text/typescript",
   "name": "typescript",
   "version": "3.7.2"
  },
  "orig_nbformat": 2
 },
 "nbformat": 4,
 "nbformat_minor": 2
}