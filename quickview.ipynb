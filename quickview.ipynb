{
 "cells": [
  {
   "cell_type": "markdown",
   "metadata": {},
   "source": [
    "# Quickview Notebook\n",
    "\n",
    "Welcome! This IPython notebook provides a quick look at short segments of data from the <a href='https://gw-osc.org/'>Gravitational Wave Open Science Center</a>\n",
    "\n",
    "* Set the GPS time (t0) and detector in the first cell\n",
    "* Click \"Run All\" in the cell menu at the top\n",
    "* Your plots will appear below\n",
    "\n",
    "v0.6; August 2019"
   ]
  },
  {
   "cell_type": "markdown",
   "metadata": {},
   "source": [
    "## SET PARAMETERS: Detector and GPS time"
   ]
  },
  {
   "cell_type": "code",
   "execution_count": 1,
   "metadata": {},
   "source": [
    "# -- Set a GPS time:\n",
    "t0 = 1126259462.4    # -- GW150914\n",
    "\n",
    "#-- Choose detector as H1, L1, or V1\n",
    "detector = 'H1'"
   ],
   "outputs": [
    {
     "output_type": "error",
     "ename": "Error",
     "evalue": "(1,1): error CS1024: Preprocessor directive expected\n(2,22): error CS1040: Preprocessor directives must appear as the first non-whitespace character on a line\n(2,18): error CS1002: ; expected\n(4,1): error CS1024: Preprocessor directive expected\n(5,12): error CS1012: Too many characters in character literal",
     "traceback": []
    }
   ]
  },
  {
   "cell_type": "markdown",
   "metadata": {},
   "source": [
    "You might try some of these examples times in the H1 detector:\n",
    "<pre>\n",
    "t0 = 1126259462.4    # -- GW150914\n",
    "t0 = 1187008882.4    # -- GW170817\n",
    "t0 = 933200215       # -- Loud hardware injection\n",
    "t0 = 1132401286.33   # -- Koi Fish Glitch\n",
    "</pre>"
   ]
  },
  {
   "cell_type": "markdown",
   "metadata": {},
   "source": [
    "### Import some packages"
   ]
  },
  {
   "cell_type": "code",
   "execution_count": 1,
   "metadata": {},
   "source": [
    "import requests, os\n",
    "import matplotlib.pyplot as plt\n",
    "%config InlineBackend.figure_format = 'retina'\n",
    "\n",
    "try:\n",
    "    from gwpy.timeseries import TimeSeries\n",
    "except:\n",
    "    ! pip install -q gwpy\n",
    "    from gwpy.timeseries import TimeSeries   "
   ],
   "outputs": [
    {
     "output_type": "error",
     "ename": "Error",
     "evalue": "(1,18): error CS1044: Cannot use more than one type in a for, using, fixed, or declaration statement\n(1,20): error CS1002: ; expected\n(2,26): error CS1003: Syntax error, '(' expected\n(2,26): error CS1041: Identifier expected; 'as' is a keyword\n(2,32): error CS1001: Identifier expected\n(2,32): error CS1003: Syntax error, ',' expected\n(3,2): error CS1003: Syntax error, ',' expected\n(3,22): error CS1003: Syntax error, ',' expected\n(3,23): error CS1003: Syntax error, ',' expected\n(3,37): error CS1001: Identifier expected\n(3,39): error CS1012: Too many characters in character literal\n(3,47): error CS1003: Syntax error, ',' expected\n(5,5): error CS1003: Syntax error, ',' expected\n(6,14): error CS1003: Syntax error, ',' expected\n(6,15): error CS1003: Syntax error, ',' expected\n(6,33): error CS1003: Syntax error, ',' expected\n(7,7): error CS1003: Syntax error, ',' expected\n(8,7): error CS1003: Syntax error, ',' expected\n(8,19): error CS1003: Syntax error, ',' expected\n(8,20): error CS1003: Syntax error, ',' expected\n(8,26): error CS1003: Syntax error, ',' expected\n(9,14): error CS1003: Syntax error, ',' expected\n(9,15): error CS1003: Syntax error, ',' expected\n(9,33): error CS1003: Syntax error, ',' expected\n(9,46): error CS1001: Identifier expected\n(9,46): error CS1026: ) expected\n(9,46): error CS1002: ; expected",
     "traceback": []
    }
   ]
  },
  {
   "cell_type": "markdown",
   "metadata": {},
   "source": [
    "### Query and download data file"
   ]
  },
  {
   "cell_type": "code",
   "execution_count": 1,
   "metadata": {},
   "source": [
    "from gwosc.locate import get_urls\n",
    "url = get_urls(detector, t0, t0)[-1]\n",
    "\n",
    "print('Downloading: ' , url)\n",
    "fn = os.path.basename(url)\n",
    "with open(fn,'wb') as strainfile:                 \n",
    "    straindata = requests.get(url)\n",
    "    strainfile.write(straindata.content)"
   ],
   "outputs": [
    {
     "output_type": "error",
     "ename": "Error",
     "evalue": "(1,26): error CS1003: Syntax error, 'in' expected\n(1,34): error CS0742: A query body must end with a select clause or a group clause\n(1,34): error CS1002: ; expected\n(2,37): error CS1002: ; expected\n(4,7): error CS1012: Too many characters in character literal\n(4,29): error CS1002: ; expected\n(5,27): error CS1002: ; expected\n(6,13): error CS1001: Identifier expected\n(6,14): error CS1031: Type expected\n(6,14): error CS1001: Identifier expected\n(6,14): error CS1012: Too many characters in character literal\n(6,20): error CS1002: ; expected\n(6,20): error CS1525: Invalid expression term 'as'\n(6,33): error CS1002: ; expected\n(6,33): error CS7017: Member definition, statement, or end-of-file expected\n(7,35): error CS1002: ; expected",
     "traceback": []
    }
   ]
  },
  {
   "cell_type": "markdown",
   "metadata": {},
   "source": [
    "### Plot the raw time-series data"
   ]
  },
  {
   "cell_type": "code",
   "execution_count": 1,
   "metadata": {},
   "source": [
    "# -- Read strain data\n",
    "strain = TimeSeries.read(fn,format='hdf5.losc')\n",
    "center = int(t0)\n",
    "strain = strain.crop(center-16, center+16)\n",
    "fig1 = strain.plot()"
   ],
   "outputs": [
    {
     "output_type": "error",
     "ename": "Error",
     "evalue": "(1,1): error CS1024: Preprocessor directive expected\n(2,36): error CS1012: Too many characters in character literal\n(2,48): error CS1002: ; expected\n(3,10): error CS1525: Invalid expression term 'int'\n(3,17): error CS1002: ; expected\n(4,43): error CS1002: ; expected",
     "traceback": []
    }
   ]
  },
  {
   "cell_type": "markdown",
   "metadata": {},
   "source": [
    "### Plot the ASD"
   ]
  },
  {
   "cell_type": "code",
   "execution_count": 1,
   "metadata": {},
   "source": [
    "# -- Plot ASD\n",
    "fig2 = strain.asd(fftlength=8).plot()\n",
    "plt.xlim(10,2000)\n",
    "plt.ylim(1e-24, 1e-19)"
   ],
   "outputs": [
    {
     "output_type": "error",
     "ename": "Error",
     "evalue": "(1,1): error CS1024: Preprocessor directive expected\n(2,38): error CS1002: ; expected\n(3,18): error CS1002: ; expected",
     "traceback": []
    }
   ]
  },
  {
   "cell_type": "markdown",
   "metadata": {},
   "source": [
    "### Whiten and band-pass the data"
   ]
  },
  {
   "cell_type": "code",
   "execution_count": 1,
   "metadata": {},
   "source": [
    "# -- Whiten and bandpass data\n",
    "white_data = strain.whiten()\n",
    "bp_data = white_data.bandpass(30, 400)\n",
    "fig3 = bp_data.plot()\n",
    "plt.xlim(t0-0.2, t0+0.1)"
   ],
   "outputs": [
    {
     "output_type": "error",
     "ename": "Error",
     "evalue": "(1,1): error CS1024: Preprocessor directive expected\n(2,29): error CS1002: ; expected\n(3,39): error CS1002: ; expected\n(4,22): error CS1002: ; expected",
     "traceback": []
    }
   ]
  },
  {
   "cell_type": "markdown",
   "metadata": {},
   "source": [
    "### Plot a q-transform of the data"
   ]
  },
  {
   "cell_type": "code",
   "execution_count": 1,
   "metadata": {},
   "source": [
    "dt = 1  #-- Set width of q-transform plot, in seconds\n",
    "hq = strain.q_transform(outseg=(t0-dt, t0+dt))\n",
    "fig4 = hq.plot()\n",
    "ax = fig4.gca()\n",
    "fig4.colorbar(label=\"Normalised energy\")\n",
    "ax.grid(False)\n",
    "ax.set_yscale('log')"
   ],
   "outputs": [
    {
     "output_type": "error",
     "ename": "Error",
     "evalue": "(1,9): error CS1040: Preprocessor directives must appear as the first non-whitespace character on a line\n(2,1): error CS1002: ; expected\n(2,47): error CS1002: ; expected\n(3,17): error CS1002: ; expected\n(4,16): error CS1002: ; expected\n(5,41): error CS1002: ; expected\n(6,15): error CS1002: ; expected\n(7,15): error CS1012: Too many characters in character literal",
     "traceback": []
    }
   ]
  }
 ],
 "metadata": {
  "kernelspec": {
   "display_name": ".NET (C#)",
   "language": "C#",
   "name": ".net-csharp"
  },
  "language_info": {
   "file_extension": ".cs",
   "mimetype": "text/x-csharp",
   "name": "C#",
   "pygments_lexer": "csharp",
   "version": "8.0"
  }
 },
 "nbformat": 4,
 "nbformat_minor": 4
}